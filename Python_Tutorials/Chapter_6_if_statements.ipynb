{
  "nbformat": 4,
  "nbformat_minor": 0,
  "metadata": {
    "colab": {
      "provenance": [],
      "toc_visible": true,
      "include_colab_link": true
    },
    "kernelspec": {
      "name": "python3",
      "display_name": "Python 3"
    },
    "language_info": {
      "name": "python"
    }
  },
  "cells": [
    {
      "cell_type": "markdown",
      "metadata": {
        "id": "view-in-github",
        "colab_type": "text"
      },
      "source": [
        "<a href=\"https://colab.research.google.com/github/joplinbrooke/Computational-Physics/blob/main/Python_Tutorials/Chapter_6_if_statements.ipynb\" target=\"_parent\"><img src=\"https://colab.research.google.com/assets/colab-badge.svg\" alt=\"Open In Colab\"/></a>"
      ]
    },
    {
      "cell_type": "markdown",
      "source": [
        "#Chapter 6 - If Statements\n",
        "\n",
        "Goals:\n",
        "* Correctly write programs that use if and else statements\n",
        "* Use Boolean expressions in if statements\n",
        "* Trace the execution of if statements both inside and outside of loops"
      ],
      "metadata": {
        "id": "fyFAA__ARUbX"
      }
    },
    {
      "cell_type": "markdown",
      "source": [
        "##6.0 Use `if` statements to control whether a block of code is executed\n",
        "\n",
        "* An `if` statement (more properly called a *conditional* statement) controls whether some block of code is executed or not\n",
        "* The first line starts with `if` and ends with a colon\n",
        "* The body containing one or more statements is indented (usually 4 spaces)\n",
        "* In the following code cell, we prompt the user to enter a temperature (in F), test if the temperature is greater than 90 F, and, if so,  print a statement.\n",
        "* Run the following code cell a couple times to try out different input temperatures\n"
      ],
      "metadata": {
        "id": "Wvu7hG3MRf5s"
      }
    },
    {
      "cell_type": "code",
      "source": [
        "# prompt user to enter the temperature in F\n",
        "temp = int(input(\"Enter a temperature in F:  \"))\n",
        "\n",
        "# See if the temp is greater than 90 F or not\n",
        "if temp > 90:\n",
        "    print(temp,'is too hot!!')\n"
      ],
      "metadata": {
        "id": "TX-eirQXRYcX",
        "outputId": "e3948e70-956f-4075-8d7f-3f8078763621",
        "colab": {
          "base_uri": "https://localhost:8080/"
        }
      },
      "execution_count": 3,
      "outputs": [
        {
          "output_type": "stream",
          "name": "stdout",
          "text": [
            "Enter a temperature in F:  98\n",
            "98 is too hot!!\n"
          ]
        }
      ]
    },
    {
      "cell_type": "markdown",
      "source": [
        "* You should find that if the temperature is > 90 F, a message is printed. Otherwise it isn't\n",
        "* BTW, notice that we placed the `input()` statement inside a  `int()` function to convert the returned string into an integer that we can use with the > operator."
      ],
      "metadata": {
        "id": "LzpNXRhpTpmQ"
      }
    },
    {
      "cell_type": "markdown",
      "source": [
        "##6.2 Use `else` to execute a block of code when an `if` condition is not true\n",
        "\n",
        "* `if` statements can stand alone (as in the first example), or they can be combined with an `else` statement.\n",
        "* The `else` statement allows us to run an alternative code block when the `if` condition is false.\n",
        "\n",
        "Let's extend our code above to make it more general. We'll add a print statement if the if condition fails (i.e. if the temperature  is less than or equal to 90 F). Again, try running the code for a few input temperatures and see if the output makes sense."
      ],
      "metadata": {
        "id": "HDW7Rf8qUB5H"
      }
    },
    {
      "cell_type": "code",
      "source": [
        "# prompt user to enter the temperature in F\n",
        "temp = int(input(\"Enter a temperature in F:  \"))\n",
        "\n",
        "# See if the temp is greater than 90 F or not\n",
        "if temp > 90:\n",
        "    print(temp,'is too hot!!')\n",
        "else:\n",
        "    print(temp,'is not too hot')\n"
      ],
      "metadata": {
        "id": "Aq9flmzOUswF",
        "outputId": "7ce501e0-30b1-4a0d-aece-aae934273273",
        "colab": {
          "base_uri": "https://localhost:8080/"
        }
      },
      "execution_count": 4,
      "outputs": [
        {
          "output_type": "stream",
          "name": "stdout",
          "text": [
            "Enter a temperature in F:  85\n",
            "85 is not too hot\n"
          ]
        }
      ]
    },
    {
      "cell_type": "markdown",
      "source": [
        "##6.3 Use `elif` to specify additional tests\n",
        "\n",
        "* `elif` is short for \"else if\"\n",
        "* The `elif` statement must come after the `if` statement and before and `else` statement (if one is used)\n",
        "* When combined with `elif` statements, the `else` statementis a \"catch all\" and is executed if none of the `if` or `elif` statements are true\n"
      ],
      "metadata": {
        "id": "6NIgvA2zU6aI"
      }
    },
    {
      "cell_type": "markdown",
      "source": [
        "### 🔆 Example:  Temperature classification\n",
        "* The following example prompts the user to enter a temperature\n",
        "* The code classifies what kind of day it is based on the temp.\n",
        "* Run it a few times with different temperatures to see how it behaves"
      ],
      "metadata": {
        "id": "SneBktaTQkGf"
      }
    },
    {
      "cell_type": "code",
      "source": [
        "temp = int(input(\"Enter a temperature in F:  \"))        # temperature in F\n",
        "\n",
        "# Classify temperature. Temp divisions:  32, 60, 90\n",
        "if temp > 90:\n",
        "    print(temp,'is too hot!!  Spend the day at the beach.')\n",
        "elif temp > 60:\n",
        "    print(temp,'is nice. Go outside and play.')\n",
        "elif temp > 32:\n",
        "    print(temp,'is chilly. Wear a jacket')\n",
        "else:\n",
        "    print(temp,'is too cold!!  Stay inside and code Python.')\n"
      ],
      "metadata": {
        "id": "oUzUQUF6VpsJ",
        "outputId": "37a7d03c-1ed5-4eca-ac11-69bec625d72b",
        "colab": {
          "base_uri": "https://localhost:8080/"
        }
      },
      "execution_count": 5,
      "outputs": [
        {
          "output_type": "stream",
          "name": "stdout",
          "text": [
            "Enter a temperature in F:  75\n",
            "75 is nice. Go outside and play.\n"
          ]
        }
      ]
    },
    {
      "cell_type": "markdown",
      "source": [
        "###  ✅ Skill Check 1  \n",
        "\n",
        "* The order of the `if`, `elif` and `else` statements matters. The following code scrambles the order of the conditional checks.\n",
        "* Run the program and try different temperatures.\n",
        "* Create a text box and describe how the code behaves. The following code prompts the user for a temperature. Explain why this version of the code is broken.\n"
      ],
      "metadata": {
        "id": "bCZqbCxKYPOP"
      }
    },
    {
      "cell_type": "code",
      "source": [
        "temp = int(input(\"Enter a temperature in F:  \"))        # temperature in F\n",
        "\n",
        "if temp > 40:      # if temperature is > 40, print the following\n",
        "    print(temp,'is chilly')\n",
        "elif temp > 70:    # else if temperature is > 70, print the following\n",
        "    print(temp,'is nice')\n",
        "elif temp > 90:    # else if temperature is > 90, print the following\n",
        "    print(temp,'is too hot!!')\n",
        "else:              # otherwise, print the following\n",
        "    print(temp,'is too cold!!')"
      ],
      "metadata": {
        "id": "i0Ej2aekYtGH",
        "outputId": "5a22c869-b072-4bd8-c7d6-0b092f2c9b74",
        "colab": {
          "base_uri": "https://localhost:8080/"
        }
      },
      "execution_count": 6,
      "outputs": [
        {
          "output_type": "stream",
          "name": "stdout",
          "text": [
            "Enter a temperature in F:  60\n",
            "60 is chilly\n"
          ]
        }
      ]
    },
    {
      "cell_type": "code",
      "source": [
        "age = int(input(\"Enter an age in years: \"))\n",
        "\n",
        "if age < 11:\n",
        "    print(age, 'kid')\n",
        "elif age >= 11 and age < 13:\n",
        "    print(age, 'tween')\n",
        "elif age >= 13 and age <= 20:\n",
        "    print(age, 'teen')\n",
        "else:\n",
        "    print(age, 'adult')"
      ],
      "metadata": {
        "id": "a089b2HjUVFG",
        "outputId": "b5419087-933d-45e7-9e91-507ad597aef3",
        "colab": {
          "base_uri": "https://localhost:8080/"
        }
      },
      "execution_count": 39,
      "outputs": [
        {
          "output_type": "stream",
          "name": "stdout",
          "text": [
            "Enter an age in years: 21\n",
            "21 adult\n"
          ]
        }
      ]
    },
    {
      "cell_type": "markdown",
      "source": [
        "The order of conditions is wrong: a broad condition (> 40) comes before narrower ones (> 70, > 90), so it captures all larger temps prematurely.\n",
        "The ranges overlap; using > 40 first swallows > 70 and > 90.\n",
        "🟩"
      ],
      "metadata": {
        "id": "jPObF85tJ1G0"
      }
    },
    {
      "cell_type": "markdown",
      "source": [
        "##6.5 Comparison (i.e. relational) and Boolean operators\n",
        "\n",
        "In addition to > and <, Python offers the following comparison (i.e. relational) operators:"
      ],
      "metadata": {
        "id": "PC0khrVubSED"
      }
    },
    {
      "cell_type": "code",
      "source": [
        "#    ==   Equality operator          x == y     True if x equal y\n",
        "#    !=   Not equal                  x != y     True if x is not equal to y\n",
        "#    >    Greater than               x > y      True if x is greater than y\n",
        "#    <    Less than                  x < y      True if x is less than y\n",
        "#    >=   Greater than or equal to   x >= y     True if x is greater than or equal to y\n",
        "#    <=   Less than or equal to      x <= y     True if x is less than or equal to y\n",
        "#    is   same object (identity)     a is b     True if a and b are the same object (not just numerically equal)\n",
        "#    in   membership                 a in b     True if a is in b"
      ],
      "metadata": {
        "id": "9o4BZNiZdxyq"
      },
      "execution_count": 7,
      "outputs": []
    },
    {
      "cell_type": "markdown",
      "source": [
        "These comparisons result in True/False states, which can be further combined with the following Booelan operators:"
      ],
      "metadata": {
        "id": "2avaR6qvarn9"
      }
    },
    {
      "cell_type": "code",
      "source": [
        "#    and    logical AND      x and y     True if BOTH x and y are True\n",
        "#    or     logical OR       x or y      True if EITHER x or y are True\n",
        "#    not    logical NOT      not x       True if x is False"
      ],
      "metadata": {
        "id": "9CLVvt3ZhDhB"
      },
      "execution_count": 8,
      "outputs": []
    },
    {
      "cell_type": "markdown",
      "source": [
        "Each of these comparisons results in a `True` or `False` Boolean. Run the following:"
      ],
      "metadata": {
        "id": "frHc-clnjPOR"
      }
    },
    {
      "cell_type": "code",
      "source": [
        "2 > 1"
      ],
      "metadata": {
        "id": "lh8nJhmljZVH",
        "outputId": "b983d6e4-286f-47b4-b7a4-55cfee449042",
        "colab": {
          "base_uri": "https://localhost:8080/"
        }
      },
      "execution_count": 9,
      "outputs": [
        {
          "output_type": "execute_result",
          "data": {
            "text/plain": [
              "True"
            ]
          },
          "metadata": {},
          "execution_count": 9
        }
      ]
    },
    {
      "cell_type": "markdown",
      "source": [
        "Try this one:"
      ],
      "metadata": {
        "id": "3zLzxlTbjfjp"
      }
    },
    {
      "cell_type": "code",
      "source": [
        "(1>2) or (2<3)"
      ],
      "metadata": {
        "id": "d5kknPJhjg0m",
        "outputId": "e07ef9e1-22ab-47f7-88b3-f5f5c21b5f43",
        "colab": {
          "base_uri": "https://localhost:8080/"
        }
      },
      "execution_count": 10,
      "outputs": [
        {
          "output_type": "execute_result",
          "data": {
            "text/plain": [
              "True"
            ]
          },
          "metadata": {},
          "execution_count": 10
        }
      ]
    },
    {
      "cell_type": "markdown",
      "source": [
        "And one more:"
      ],
      "metadata": {
        "id": "OMur6R3Qjw-y"
      }
    },
    {
      "cell_type": "code",
      "source": [
        "not (1<2)"
      ],
      "metadata": {
        "id": "ZUitKHlkjyub",
        "outputId": "9895cca8-8640-4d4a-c5e0-e4c0226807db",
        "colab": {
          "base_uri": "https://localhost:8080/"
        }
      },
      "execution_count": 11,
      "outputs": [
        {
          "output_type": "execute_result",
          "data": {
            "text/plain": [
              "False"
            ]
          },
          "metadata": {},
          "execution_count": 11
        }
      ]
    },
    {
      "cell_type": "markdown",
      "source": [
        "Here are some examples of using comparisons in if statements:"
      ],
      "metadata": {
        "id": "UTYJpog7iHaU"
      }
    },
    {
      "cell_type": "code",
      "source": [
        "A = [0, 10, 20, 40, 100]\n",
        "x = 10\n",
        "\n",
        "if x >= A[0] and x < A[2]:\n",
        "    print(\"first condition is true\")\n",
        "\n",
        "if x == A[1]:\n",
        "    print(\"second condition is true\")\n",
        "\n",
        "if x in A:\n",
        "    print(\"third condition is true\")\n",
        "\n",
        "if not(999 in A):\n",
        "    print(\"fourth condition is true\")\n"
      ],
      "metadata": {
        "id": "2JWa3Ab-iRUz",
        "outputId": "73f0f7eb-7e80-4baa-ba60-44fde808e443",
        "colab": {
          "base_uri": "https://localhost:8080/"
        }
      },
      "execution_count": 12,
      "outputs": [
        {
          "output_type": "stream",
          "name": "stdout",
          "text": [
            "first condition is true\n",
            "second condition is true\n",
            "third condition is true\n",
            "fourth condition is true\n"
          ]
        }
      ]
    },
    {
      "cell_type": "markdown",
      "source": [
        "### ✅ Skill Check 2\n",
        "\n",
        "Determine whether each of the following conditions produces True or False without executing the code. Create a Text Cell to type your answers.\n",
        "\n",
        "\n",
        "\n",
        "```\n",
        "4 > 3\n",
        "2-1 == 3-2\n",
        "(4*6 > 5*5) or 2>1\n",
        "(2>1) and (3>1) and (4>1) and (4>5)\n",
        "```\n",
        "\n",
        "\n"
      ],
      "metadata": {
        "id": "GQMyJ9g-hg8H"
      }
    },
    {
      "cell_type": "markdown",
      "source": [
        "true, true, true, false because 4>5 is false"
      ],
      "metadata": {
        "id": "9CLZCJCo_qEo"
      }
    },
    {
      "cell_type": "markdown",
      "source": [
        "### ✅ Skill Check 3\n",
        "\n",
        "Classify a number.\n",
        "* Write a program to prompt the user to enter a number.\n",
        "* Don't forget to convert the input to a float\n",
        "* Print a message stating whether the number is an integer or if it has nonzero decimal places.\n",
        "* If the number is an integer, print a message saying if it is even or odd (hint:  you can use the % operator)"
      ],
      "metadata": {
        "id": "UZSPe10G7fHA"
      }
    },
    {
      "cell_type": "code",
      "source": [
        "num = float(input(\"Enter a number: \"))\n",
        "\n",
        "if num.is_integer():\n",
        "    n = int(num)\n",
        "    if n % 2 == 0:\n",
        "        print(f\"{num} is an integer and it is even.\")\n",
        "    else:\n",
        "        print(f\"{num} is an integer and it is odd.\")\n",
        "else:\n",
        "    print(f\"{num} has nonzero decimal places.\")"
      ],
      "metadata": {
        "id": "l5cGzzsY_3hj",
        "outputId": "101c164d-ca36-4b9f-e858-ff4b391563ec",
        "colab": {
          "base_uri": "https://localhost:8080/"
        }
      },
      "execution_count": 40,
      "outputs": [
        {
          "output_type": "stream",
          "name": "stdout",
          "text": [
            "Enter a number: 5\n",
            "5.0 is an integer and it is odd.\n"
          ]
        }
      ]
    },
    {
      "cell_type": "markdown",
      "source": [
        "### ✅ Skill Check 4\n",
        "\n",
        "The x and y coordinates for 8 points are given in the code cell below.\n",
        "*  Write some code to classify which quandrant each point is in.\n",
        "* If a point lies exactly on the x or y axis, it doesn't belong to a quadrant. Instead, say which axis it is on.\n",
        "* Your code should output nicely-formatted (x,y) coordinates of each point along with your classification. The first few lines of the output should look something like the following:\n",
        "```\n",
        "( 2, 8)   quadrant I\n",
        "(-4, 2)   quadrant II\n",
        "(-2, 0)   x axis\n",
        "```\n",
        "\n"
      ],
      "metadata": {
        "id": "259F29Tlwz5y"
      }
    },
    {
      "cell_type": "code",
      "source": [
        "x = [2, -4, -2, -5, 1, -6,  3, -2]\n",
        "y = [8,  2,  0,  4, 9, -3, -3,  0]\n",
        "\n",
        "def classify_point(px, py):\n",
        "    if px == 0 and py == 0:\n",
        "        return \"origin\"\n",
        "    if py == 0:\n",
        "        return \"x axis\"\n",
        "    if px == 0:\n",
        "        return \"y axis\"\n",
        "    if px > 0 and py > 0:\n",
        "        return \"quadrant I\"\n",
        "    if px < 0 and py > 0:\n",
        "        return \"quadrant II\"\n",
        "    if px < 0 and py < 0:\n",
        "        return \"quadrant III\"\n",
        "    return \"quadrant IV\"  # px > 0 and py < 0\n",
        "\n",
        "for px, py in zip(x, y):\n",
        "    label = classify_point(px, py)\n",
        "    print(f\"({px:>2}, {py:>2})   {label}\")"
      ],
      "metadata": {
        "id": "Rzul0XEVxBc_",
        "outputId": "ee681ffb-fd01-4a74-8a6c-983a36ddafba",
        "colab": {
          "base_uri": "https://localhost:8080/"
        }
      },
      "execution_count": 14,
      "outputs": [
        {
          "output_type": "stream",
          "name": "stdout",
          "text": [
            "( 2,  8)   quadrant I\n",
            "(-4,  2)   quadrant II\n",
            "(-2,  0)   x axis\n",
            "(-5,  4)   quadrant II\n",
            "( 1,  9)   quadrant I\n",
            "(-6, -3)   quadrant III\n",
            "( 3, -3)   quadrant IV\n",
            "(-2,  0)   x axis\n"
          ]
        }
      ]
    },
    {
      "cell_type": "markdown",
      "source": [
        "##**6.6 Coding Patterns:  If statements used inside loops**\n",
        "\n",
        "* Loops, if statements and variable update rules can be combined in many, many ways.\n",
        "* Some combinations come up so often they are given names. These code structures are called \"**coding patterns**\"\n",
        "* Here are a few of the most common coding patterns we will encounter:"
      ],
      "metadata": {
        "id": "z6ok1NjEjnZV"
      }
    },
    {
      "cell_type": "markdown",
      "source": [
        "### 🔆 The Update (or Replacement) Pattern updates old information with new\n",
        "\n",
        "* Unlike the Accumulator Pattern (discussed in the last chapter) in which new information is added to or combined with old information, the Update Pattern replaces old with new.\n",
        "\n",
        "**Example**: Finding the max or min of a list\n",
        "\n",
        "* A common application application of the Update Pattern is looking for the maximum or minimum value in a list of numbers\n",
        "* In the following code,  a list is defined\n",
        "* The mmaximum value `max_value` is initially assigned to the first element in the list\n",
        "* The rest of the list is scanned using a for loop\n",
        "* If a list element is greater than the stored `max_value`, the `max_value` is assigned to that element\n",
        "\n",
        "Run the following Code Cell to try it out.\n"
      ],
      "metadata": {
        "id": "25lfxS7Qz63e"
      }
    },
    {
      "cell_type": "code",
      "source": [
        "vlist = [3, 7, 9, -5, 27, -2, 12]  # define a list of numbers\n",
        "\n",
        "max_v = vlist[0]                   # initialize max_value to the first element of the list\n",
        "\n",
        "for v in vlist:                    # loop over numbers in the list\n",
        "    if v > max_v:                  # check if the current number is greater than max_val\n",
        "        max_v = v                  # if the condition is true, update max_val to current number\n",
        "\n",
        "print(\"maximum value = \", max_v)   # print out the max value in the list\n"
      ],
      "metadata": {
        "id": "NOj_1z9D1Y3i",
        "outputId": "c1683c6f-f3d2-48bd-dd99-07b44b3b8fd0",
        "colab": {
          "base_uri": "https://localhost:8080/"
        }
      },
      "execution_count": 15,
      "outputs": [
        {
          "output_type": "stream",
          "name": "stdout",
          "text": [
            "maximum value =  27\n"
          ]
        }
      ]
    },
    {
      "cell_type": "markdown",
      "source": [
        "A **second example** loops through a Python list to calculate the difference between consecutive pairs of elements.\n",
        "* We are given a list of values `y_values`\n",
        "* As we loop through the times, we want to keep track of the curent (new) value and the previous (old) value\n",
        "* On each iteration, the previous \"new\" value becomes the current \"old\" value (see below)\n",
        "* We calculate the difference by subtracting the old value from the new\n",
        "* We'll see later, this pattern is useful for solving differential equations and other time-dependent problems"
      ],
      "metadata": {
        "id": "gvdq-Tpp1OF_"
      }
    },
    {
      "cell_type": "code",
      "source": [
        "y_values = [0, 1, 5, 4, 2, 0]    # define a list of numbers\n",
        "\n",
        "y_old = y_values[0]              # initialize old time to the first element\n",
        "y_new = y_values[0]              # initialize new time to the first element\n",
        "\n",
        "for y in y_values[1:]:           # loop over times, starting with 2nd element\n",
        "    y_old = y_new                # current \"old\" time = previous \"new\" time\n",
        "    y_new = y                    # current \"new\" time = current time in the loop\n",
        "\n",
        "    diff = y_new - y_old         # Calc difference between new and old\n",
        "    print(\"diff = \",diff)        # display difference\n"
      ],
      "metadata": {
        "id": "yZPN_6GI1ZDM",
        "outputId": "67304b5a-efdd-4502-b261-1d5224419787",
        "colab": {
          "base_uri": "https://localhost:8080/"
        }
      },
      "execution_count": 16,
      "outputs": [
        {
          "output_type": "stream",
          "name": "stdout",
          "text": [
            "diff =  1\n",
            "diff =  4\n",
            "diff =  -1\n",
            "diff =  -2\n",
            "diff =  -2\n"
          ]
        }
      ]
    },
    {
      "cell_type": "markdown",
      "source": [
        "### 🔆 The Count Pattern counts how many times a feature is found\n",
        "\n",
        "* In this pattern, we define a counter variable and initialize it to zero\n",
        "* We loop through a list and check to see if a given condition is met. If it is, we increment the counter\n",
        "* Notice we use a Python shoethand for incrementing `count`. The statement `count += 1` is shorthand for `count = count + 1`\n",
        "* In the following example, we define a list of how many cats a certain group of people own.\n",
        "* We count how many of the people own at least 3 cats (which is stored in a variable called threshold)"
      ],
      "metadata": {
        "id": "ntJtugqf4BuJ"
      }
    },
    {
      "cell_type": "code",
      "source": [
        "n_cats = [0,1,5,0,1,1,3,4,10]    # number of cats owned\n",
        "\n",
        "count = 0                        # initialize count\n",
        "\n",
        "threshold = 3                    # threshhold = minimum number of cats to sesarch for\n",
        "for cats in n_cats:              # loop over numbers in the list\n",
        "    if cats >= threshold:        # check if the current number is greater than max_val\n",
        "        count += 1               # if the condition is true, update max_val to current number\n",
        "\n",
        "print(count,\" people in the list own at least\",threshold,\"cats\")\n",
        "\n"
      ],
      "metadata": {
        "id": "H4ZlouxN4gnl",
        "outputId": "2783e5e0-af01-4cc1-802f-37a50e7d4a7d",
        "colab": {
          "base_uri": "https://localhost:8080/"
        }
      },
      "execution_count": 17,
      "outputs": [
        {
          "output_type": "stream",
          "name": "stdout",
          "text": [
            "4  people in the list own at least 3 cats\n"
          ]
        }
      ]
    },
    {
      "cell_type": "markdown",
      "source": [
        "### ✅ Skill Check 5\n",
        "\n",
        "* Ask the user to input 5 integers\n",
        "* This can be done by placing an input statement inside a for loop.\n",
        "* Count how many of the inputted numbers are even.\n",
        "* Display the result to the screen with a message\n"
      ],
      "metadata": {
        "id": "o13qshwhFybF"
      }
    },
    {
      "cell_type": "code",
      "source": [
        "even_count = 0\n",
        "\n",
        "for i in range(1, 6):\n",
        "    n = int(input(f\"Enter integer #{i}: \"))\n",
        "    if n % 2 == 0:\n",
        "        even_count += 1\n",
        "\n",
        "print(f\"You entered {even_count} even number(s) out of 5.\")"
      ],
      "metadata": {
        "id": "5ZSYRiNkJ-OJ",
        "outputId": "151be0b3-f011-47ea-80bb-dcf7e7055a59",
        "colab": {
          "base_uri": "https://localhost:8080/"
        }
      },
      "execution_count": 18,
      "outputs": [
        {
          "output_type": "stream",
          "name": "stdout",
          "text": [
            "Enter integer #1: 4\n",
            "Enter integer #2: 6\n",
            "Enter integer #3: 7\n",
            "Enter integer #4: 9\n",
            "Enter integer #5: 3\n",
            "You entered 2 even number(s) out of 5.\n"
          ]
        }
      ]
    },
    {
      "cell_type": "markdown",
      "source": [
        "### 🔆 The Search Pattern loops through a list until a feature is found\n",
        "\n",
        "* In the following example, we determine if a given number is present in a list of numbers.\n",
        "* We initialize a Boolean variable called `found` to be `False` (since the number is not found before we start looking).\n",
        "* We then loop through the list and check to see if each element equals our target.\n",
        "* If we find the target in our list, we set our `found` variable to `True`.\n",
        "* Since we've already found the target, we don't need to keep looping, so we use the `break` command. This command exits the for loop immediately\n"
      ],
      "metadata": {
        "id": "vaIKeU26_N5K"
      }
    },
    {
      "cell_type": "code",
      "source": [
        "numbers = [3,5,9,11,15,19,24]   # define a list of numbers\n",
        "target = 15                     # target = number to search for in list\n",
        "\n",
        "found = False                   # found = Boolean variable that equals false until a match is found\n",
        "for nbr in numbers:             # loop over numbers in the list\n",
        "    if nbr == target:           # check if the current number is equal to target\n",
        "        found = True            # if the condition is met, set found to True\n",
        "        break                   # exit the loop and stop searching\n",
        "\n",
        "if found:\n",
        "    print(\"numbers list contains\",target)\n",
        "else:\n",
        "    print(\"numbers list does not contain\",target)"
      ],
      "metadata": {
        "id": "FK_Bifl6_O9y",
        "outputId": "59e04e09-43fb-4e12-c0da-392de6f7519d",
        "colab": {
          "base_uri": "https://localhost:8080/"
        }
      },
      "execution_count": 19,
      "outputs": [
        {
          "output_type": "stream",
          "name": "stdout",
          "text": [
            "numbers list contains 15\n"
          ]
        }
      ]
    },
    {
      "cell_type": "markdown",
      "source": [
        "### ✅ Skill Check 6\n",
        "\n",
        "Write a program that detects peaks in a time series.\n",
        "* The Code Cell below contains a series of sequential measurements `y` made at times `t`\n",
        "* Your program should scan the list and find the values that are at the top of a local peak\n",
        "* We define a local peak as a list element that is greater than or equal to both of its neighbors. i.e. a list element $y_n$ is a local peak if $y_n \\geq y_{n+1}$ and  $y_n \\geq y_{n-1}$.\n",
        "* Cells at the beginning and end of the list, i.e. `y[0]` and `y[-1]` should not be considered as being local peaks since it is not possible to compare their values to both neighbors.\n",
        "* The code should count the number of local peaks found\n",
        "* You don't need to save the `y` and `t` values, just print them out\n",
        "* Print the times and y values of the local peaks\n",
        "* Print a statement saying how many local peaks were found"
      ],
      "metadata": {
        "id": "2BxiRmPf1ZlZ"
      }
    },
    {
      "cell_type": "markdown",
      "source": [
        "Before you start coding, think about which design pattern(s) are relevant to this problem. Which will you use?  \n",
        "\n",
        "Enter your answer here:  "
      ],
      "metadata": {
        "id": "poIzpY0SnHNh"
      }
    },
    {
      "cell_type": "code",
      "source": [
        "y = [0, 0.2, 0.5, 1.2, 2.4, 2.0, 0.4, 0.1, 0.2, 0.7, 1.3, 0.9, 0.2]   # y measurements\n",
        "t = [0,   1,   2,   3,   4,   5,   6,   7,   8,   9,  10,  11,  12]   # times\n",
        "\n",
        "peak_count = 0\n",
        "\n",
        "print(\"Local peaks (time, y):\")\n",
        "for i in range(1, len(y) - 1):\n",
        "    if y[i] >= y[i-1] and y[i] >= y[i+1]:\n",
        "        print(f\"(t={t[i]:>2}, y={y[i]:>4.1f})\")\n",
        "        peak_count += 1\n",
        "\n",
        "print(f\"\\nTotal local peaks found: {peak_count}\")"
      ],
      "metadata": {
        "id": "9O4pVAgciKCO",
        "outputId": "71181732-9910-4312-a832-be802ff60f75",
        "colab": {
          "base_uri": "https://localhost:8080/"
        }
      },
      "execution_count": 20,
      "outputs": [
        {
          "output_type": "stream",
          "name": "stdout",
          "text": [
            "Local peaks (time, y):\n",
            "(t= 4, y= 2.4)\n",
            "(t=10, y= 1.3)\n",
            "\n",
            "Total local peaks found: 2\n"
          ]
        }
      ]
    },
    {
      "cell_type": "markdown",
      "source": [
        "### ✅ Skill Check 7\n",
        "\n",
        "Write a guessing game program.\n",
        "* Generate a random integer between 1 and 100. This will be the target number the user tries to guess. (see the Rolling Dice example in Chapter 5 for an example of how to use the random library to produce a random integer)\n",
        "* Prompt the user to pick an integer between 1 and 100.\n",
        "* Determine if the guess matches the actual value. If it does, tell them they won the game and how many guesses they took.  \n",
        "* Tell the the user if they are “warmer” (if their guess is closer to the target than the previous guess),  “colder” (if it is farther from the target) or “neither warmer nor colder” if their new guess is the same distance from the value as the previous guess.\n",
        "* Repeat this process until the user guesses the correct number.  \n",
        "* Display the number of guesses it takes the user to guess the target. Feel free  to write some code that comments on how well they did (i.e. \"amazing!\" or \"better luck next time\", etc.)."
      ],
      "metadata": {
        "id": "8mJTc731fcfh"
      }
    },
    {
      "cell_type": "code",
      "source": [
        "import random\n",
        "\n",
        "print(\"I'm thinking of an integer between 1 and 100. Can you guess it?\")\n",
        "target = random.randint(1, 100)\n",
        "guesses = 0\n",
        "prev_diff = None\n",
        "\n",
        "while True:\n",
        "    try:\n",
        "        guess = int(input(\"Pick an integer 1–100: \"))\n",
        "    except ValueError:\n",
        "        print(\"Please enter a whole number.\")\n",
        "        continue\n",
        "\n",
        "    if not (1 <= guess <= 100):\n",
        "        print(\"Out of range. Stay between 1 and 100.\")\n",
        "        continue\n",
        "\n",
        "    guesses += 1\n",
        "    diff = abs(guess - target)\n",
        "\n",
        "    if diff == 0:\n",
        "        # Win condition\n",
        "        print(f\"🎉 You got it! The number was {target}.\")\n",
        "        print(f\"You took {guesses} guess(es).\")\n",
        "        if guesses <= 3:\n",
        "            print(\"Amazing! 🔥\")\n",
        "        elif guesses <= 7:\n",
        "            print(\"Nice work! 👍\")\n",
        "        elif guesses <= 12:\n",
        "            print(\"Not bad—steady guessing. 🙂\")\n",
        "        else:\n",
        "            print(\"You made it! Better luck next time for fewer guesses. 😅\")\n",
        "        break\n",
        "\n",
        "    # Feedback relative to previous guess\n",
        "    if prev_diff is None:\n",
        "        print(\"First guess—keep going!\")\n",
        "    else:\n",
        "        if diff < prev_diff:\n",
        "            print(\"Warmer 🔥\")\n",
        "        elif diff > prev_diff:\n",
        "            print(\"Colder ❄️\")\n",
        "        else:\n",
        "            print(\"Neither warmer nor colder 😐\")\n",
        "\n",
        "    prev_diff = diff"
      ],
      "metadata": {
        "id": "By3LrNZaKWMN",
        "outputId": "2b07a999-d6b8-4834-8079-d7cc55af2930",
        "colab": {
          "base_uri": "https://localhost:8080/"
        }
      },
      "execution_count": 41,
      "outputs": [
        {
          "output_type": "stream",
          "name": "stdout",
          "text": [
            "I'm thinking of an integer between 1 and 100. Can you guess it?\n",
            "Pick an integer 1–100: 50\n",
            "First guess—keep going!\n",
            "Pick an integer 1–100: 49\n",
            "Warmer 🔥\n",
            "Pick an integer 1–100: 25\n",
            "Colder ❄️\n",
            "Pick an integer 1–100: 40\n",
            "Warmer 🔥\n",
            "Pick an integer 1–100: 45\n",
            "🎉 You got it! The number was 45.\n",
            "You took 5 guess(es).\n",
            "Nice work! 👍\n"
          ]
        }
      ]
    },
    {
      "cell_type": "markdown",
      "source": [
        "### Key Points\n",
        "\n",
        "* Use `if` statements to control whether a block of code is executed based on some condition\n",
        "* Use `else` or `elif` statements to provide additional tests\n",
        "* Python provides several ways of making and combining conditional tests\n",
        "* If statements are often used inside loops\n",
        "* Common combinations of if statements and loops are characterized as **Design Patterns** (or **Coding Patterns**)"
      ],
      "metadata": {
        "id": "Eq2Hq8D_ff6q"
      }
    },
    {
      "cell_type": "markdown",
      "source": [
        "This tutorial is a modified adaptation of \"[Python for Physicists](https://lucydot.github.io/python_novice/)\"\n",
        "© [Software Carpentry](http://software-carpentry.org/)\n"
      ],
      "metadata": {
        "id": "5pnXdFvAhvCZ"
      }
    }
  ]
}