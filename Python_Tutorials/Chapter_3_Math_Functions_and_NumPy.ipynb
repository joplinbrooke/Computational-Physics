{
  "nbformat": 4,
  "nbformat_minor": 0,
  "metadata": {
    "colab": {
      "provenance": [],
      "toc_visible": true,
      "include_colab_link": true
    },
    "kernelspec": {
      "name": "python3",
      "display_name": "Python 3"
    },
    "language_info": {
      "name": "python"
    }
  },
  "cells": [
    {
      "cell_type": "markdown",
      "metadata": {
        "id": "view-in-github",
        "colab_type": "text"
      },
      "source": [
        "<a href=\"https://colab.research.google.com/github/joplinbrooke/Computational-Physics/blob/main/Python_Tutorials/Chapter_3_Math_Functions_and_NumPy.ipynb\" target=\"_parent\"><img src=\"https://colab.research.google.com/assets/colab-badge.svg\" alt=\"Open In Colab\"/></a>"
      ]
    },
    {
      "cell_type": "markdown",
      "source": [
        "# Chapter 3 - Math Functions and the NumPy Library"
      ],
      "metadata": {
        "id": "Zs1hse2JWxg2"
      }
    },
    {
      "cell_type": "markdown",
      "source": [
        "Objectives:\n",
        "*  Use mathematical operators to perform calculations\n",
        "*  Apply math functions to float and integer variables\n",
        "*  Import the NumPy library\n",
        "*  Use mathematical functions and constants defined in NumPy\n"
      ],
      "metadata": {
        "id": "mYx7rd9VHabD"
      }
    },
    {
      "cell_type": "markdown",
      "source": [
        "## 3.0 Simple Mathematical Operations\n",
        "\n",
        "\n",
        "\n"
      ],
      "metadata": {
        "id": "ZjkssuD75N8b"
      }
    },
    {
      "cell_type": "markdown",
      "source": [
        "Here are examples of how to add, subtract, multiply and divide in Python using the `+, -, *, /` operators"
      ],
      "metadata": {
        "id": "CVDZgXSgFC6z"
      }
    },
    {
      "cell_type": "code",
      "source": [
        "x = 5         # assign a value to x\n",
        "y = 2         # assign a value to y\n",
        "\n",
        "z1 = x + y    # adds x and y\n",
        "z2 = x - y    # subtracts y from x\n",
        "z3 = x * y    # multiplies x times y\n",
        "z4 = x / y    # divides x by y"
      ],
      "metadata": {
        "id": "vdVJcmUUFC6z"
      },
      "execution_count": 2,
      "outputs": []
    },
    {
      "cell_type": "markdown",
      "source": [
        "If you want to see the results of these operations you can run this code cell and open the Variable Inspector. The spaces around the operators and equal sign are optional and are included for readability, but aren't necessary."
      ],
      "metadata": {
        "id": "gXydV9jfFC60"
      }
    },
    {
      "cell_type": "markdown",
      "source": [
        "To raise a variable to a power, Python uses the double asterisk like this:"
      ],
      "metadata": {
        "id": "GypKBfftFC60"
      }
    },
    {
      "cell_type": "code",
      "source": [
        "z5 = 2 ** 4    # raises 2 to the 4th power to give 16"
      ],
      "metadata": {
        "id": "HUo1xpXeFC61"
      },
      "execution_count": 3,
      "outputs": []
    },
    {
      "cell_type": "markdown",
      "source": [
        "Here are a couple less common operators (`%` and `//`) that are built in to native Python:"
      ],
      "metadata": {
        "id": "fQi4br_CDXgQ"
      }
    },
    {
      "cell_type": "code",
      "source": [
        "x = 17; y = 3  # assign values to x and y (Notice we use \";\" to define two variables on the same line.)\n",
        "a = x // y     # integer division (truncates any decimal values to return an integer)\n",
        "b = x % y      # remainder of division of x by y (also called the modulo operator)\n",
        "\n",
        "# let's print these values\n",
        "print(f'integer division example:  {x} // {y} = {a}')\n",
        "print(f'modulo arithmetic example:  {x} % {y} = {b}')"
      ],
      "metadata": {
        "id": "I5eK2Xv1DXgR"
      },
      "execution_count": null,
      "outputs": []
    },
    {
      "cell_type": "markdown",
      "source": [
        "### ✅ Skill Check 1\n",
        "\n",
        "Calculate the value of $2^{10}$. Display your result in a print statement. This value is the number of bytes in a kilobyte of computer memory."
      ],
      "metadata": {
        "id": "zsy5LuiJYIxb"
      }
    },
    {
      "cell_type": "code",
      "source": [
        "value = 2**10\n",
        "print(f'2 to the 10th power is {value}')"
      ],
      "metadata": {
        "id": "OlS02nZCNgms",
        "outputId": "bbed40dc-7e58-4e40-8849-07f73068cb86",
        "colab": {
          "base_uri": "https://localhost:8080/"
        }
      },
      "execution_count": 4,
      "outputs": [
        {
          "output_type": "stream",
          "name": "stdout",
          "text": [
            "2 to the 10th power is 1024\n"
          ]
        }
      ]
    },
    {
      "cell_type": "markdown",
      "source": [
        "##**3.1 Order of operations:  use parentheses sparingly**.\n",
        "Much like when you use a calculator, you can use parentheses to tell Python to group and execute some operations before applying others. Generally, Python performs multiplication and division first and then applies addition and subtraction. It is a good idea to only use parentheses when you need to so you don't needlessly clutter up a calculation. Too many parentheses can make expressions harder rather than easier to read."
      ],
      "metadata": {
        "id": "TpsN7o-TFC61"
      }
    },
    {
      "cell_type": "code",
      "source": [
        "x = 5; y = 2                  # assign values to x an y\n",
        "a = 2; b = 4; c = 6           # assign values to a,b,c\n",
        "\n",
        "z1 = a*x + b*y                # multiplication is computed before addition by default\n",
        "z2 = a*(x+y)                  # parentheses force addition to be done before multiplication\n",
        "z3 = a*b/c                    # multiply, then divide\n",
        "z4 = a/(b*c)                  # parentheses are needed if a is divided by product b*c\n",
        "z5 = a*x + b*x**2 + c*x**3    # exponentiation example\n",
        "z6 = a*b*2**(a-b)/c           # division by c is performed after exponentiation\n",
        "z7 = (a*b/c) * 2**(a-b)       # same result as above but clearer and less subject to misunderstanding\n",
        "z8 = a*(b*(1/c*(2**(a-b))))   # same result as above, but too many parentheses make this hard to read\n"
      ],
      "metadata": {
        "id": "D0KMdbivFC62"
      },
      "execution_count": null,
      "outputs": []
    },
    {
      "cell_type": "markdown",
      "source": [
        "\n",
        "\n",
        "* If you wish to see the results of these calculations, open the Variable Explorer or you can create a print statement to print the values."
      ],
      "metadata": {
        "id": "DZRrffagv2MC"
      }
    },
    {
      "cell_type": "markdown",
      "source": [
        "### ✅ Skill Check 2\n",
        "\n",
        "The following code cell defines variables `x` and `y`. Calculate the quantity $z = \\frac{2x^3}{y^2} +\\frac{4x+y^2}{(x-2y)^2}$. Print your value for `z`."
      ],
      "metadata": {
        "id": "-UTgH6GKBB23"
      }
    },
    {
      "cell_type": "code",
      "source": [
        "x = 2.5\n",
        "y = 6\n",
        "z = 2 * (x**3) * (y**2) + 4*x + (y**2) * ((x-y*2)**2)            # insert your expression for z here\n",
        "print(f'the value of z is {z}')"
      ],
      "metadata": {
        "id": "2sJzAn2ZA-wT",
        "outputId": "817c09f7-c2d2-45e3-fb3c-5e87caebbe4d",
        "colab": {
          "base_uri": "https://localhost:8080/"
        }
      },
      "execution_count": 5,
      "outputs": [
        {
          "output_type": "stream",
          "name": "stdout",
          "text": [
            "the value of z is 4384.0\n"
          ]
        }
      ]
    },
    {
      "cell_type": "markdown",
      "source": [
        "##**3.2 Commonly used built-in functions include  `round()` and `abs()`**\n",
        "Built-in functions are functions that come with native Python. For trig and other math functions we'll have to load a specialized library called numpy (see below).\n",
        "\n",
        "To take the absolute value use the `abs()` function:"
      ],
      "metadata": {
        "id": "zcxpETipI1Ih"
      }
    },
    {
      "cell_type": "code",
      "source": [
        "print(abs(-2))"
      ],
      "metadata": {
        "id": "pwA2g-GRH46d",
        "outputId": "945130ad-c44b-48d2-a804-a772b52b2813",
        "colab": {
          "base_uri": "https://localhost:8080/"
        }
      },
      "execution_count": 6,
      "outputs": [
        {
          "output_type": "stream",
          "name": "stdout",
          "text": [
            "2\n"
          ]
        }
      ]
    },
    {
      "cell_type": "markdown",
      "source": [
        "The `abs()` function returns the modulus of complex numbers:"
      ],
      "metadata": {
        "id": "YrU6kBwet99V"
      }
    },
    {
      "cell_type": "code",
      "source": [
        "c = 1+1j\n",
        "print(\"the modulus of\",c,\"is\",abs(c))"
      ],
      "metadata": {
        "id": "N8coZP6ouEGW",
        "outputId": "ee089d49-71d3-422e-a281-38d7ee762724",
        "colab": {
          "base_uri": "https://localhost:8080/"
        }
      },
      "execution_count": 7,
      "outputs": [
        {
          "output_type": "stream",
          "name": "stdout",
          "text": [
            "the modulus of (1+1j) is 1.4142135623730951\n"
          ]
        }
      ]
    },
    {
      "cell_type": "markdown",
      "source": [
        "###3.2.1 Some functions (including `round()`) have default values for some arguments"
      ],
      "metadata": {
        "id": "VaO9pNljH9Y0"
      }
    },
    {
      "cell_type": "markdown",
      "source": [
        "We can round a rumber to the nearest whole number by simply passing the number to the `round()` function like this:"
      ],
      "metadata": {
        "id": "lahDjpQGISnQ"
      }
    },
    {
      "cell_type": "code",
      "source": [
        "print(round(3.14159))"
      ],
      "metadata": {
        "id": "nM8O0bhFIibl",
        "outputId": "3182d661-f4e3-49b3-aa1a-4d71b449ba31",
        "colab": {
          "base_uri": "https://localhost:8080/"
        }
      },
      "execution_count": 8,
      "outputs": [
        {
          "output_type": "stream",
          "name": "stdout",
          "text": [
            "3\n"
          ]
        }
      ]
    },
    {
      "cell_type": "markdown",
      "source": [
        "However, the `round()` function has an optional argument that specifies the number of digits to keep after the decimal point. For example, if we wanted to keep 2 decimal places we could write:"
      ],
      "metadata": {
        "id": "mwCjsgRqI6Rw"
      }
    },
    {
      "cell_type": "code",
      "source": [
        "print(round(3.14159,2))"
      ],
      "metadata": {
        "id": "aoIrxvTeJVsG",
        "outputId": "ee966cbf-f7cb-4072-86fc-8915695dea09",
        "colab": {
          "base_uri": "https://localhost:8080/"
        }
      },
      "execution_count": 9,
      "outputs": [
        {
          "output_type": "stream",
          "name": "stdout",
          "text": [
            "3.14\n"
          ]
        }
      ]
    },
    {
      "cell_type": "markdown",
      "source": [
        "Native Python does not have sophisticated mathematical functions like trig functions, Bessel functions, etc. For those, we need to load in a specialized library as we'll see in the next section."
      ],
      "metadata": {
        "id": "shCgkWyyFC65"
      }
    },
    {
      "cell_type": "markdown",
      "source": [
        "##3.3 NumPy Library"
      ],
      "metadata": {
        "id": "wHNhiuCjBtjl"
      }
    },
    {
      "cell_type": "markdown",
      "source": [
        "Libraries are collections of one or more modules that contain functions and other objects that provide additional functionality to the basic Python package, much like a new instrument adds functionality to a research lab. But just as too much equipment can sometimes complicate and slow down a lab, too many libraries can slow down your code. So, only import the libraries (or parts of libraries) that you need.\n",
        "\n",
        "**Library vs Module**. A library is technically a collection of modules, but the terms are often used interchangeably, especially since many libraries only consist of a single module, so don’t worry if you mix them. Numpy, for example, has many modules, each corresponding to groups of mathematical functions (such as a the linear algebra module `linalg`).\n",
        "\n",
        "One of the most widely-used libraries for scientific computation is NumPy (pronounced \"num-pie\" and not something that rhymes with \"grumpy\"). NumPy provides a wide range of numerical functions that are not included in native Python. For example, Python doesn't natively include the sine and cosine functions. To use this library, we add an import statement to the beginning of our program, and then reference the functions in this library."
      ],
      "metadata": {
        "id": "4xw-Qs0wsOav"
      }
    },
    {
      "cell_type": "markdown",
      "source": [
        "### 🔆 Example:  Area of Circle\n",
        "Here's a sample program that imports the `numpy` library and uses it to access the value of $\\pi$ to calculate the area of a circle:"
      ],
      "metadata": {
        "id": "MkHvaV4tMIpC"
      }
    },
    {
      "cell_type": "code",
      "source": [
        "import numpy as np   # import the numpy library and abbreviate it as np\n",
        "\n",
        "r = 10               # define the radius of a circle\n",
        "A = np.pi * r**2     # use the numpy library value for pi to calculate the area of a circle\n",
        "print(\"area of circle = \",A)"
      ],
      "metadata": {
        "id": "nrQknvLEm6qc",
        "outputId": "cc620c14-959f-4d7c-96e6-e68d2f6914b4",
        "colab": {
          "base_uri": "https://localhost:8080/"
        }
      },
      "execution_count": 10,
      "outputs": [
        {
          "output_type": "stream",
          "name": "stdout",
          "text": [
            "area of circle =  314.1592653589793\n"
          ]
        }
      ]
    },
    {
      "cell_type": "markdown",
      "source": [
        "Here are a few things to notice about this code:\n",
        "* We import the NumPy library at the beginning of the code before it is used\n",
        "* When we import NumPy we give it a shortened nick-name \"np\". This abbreviation saves typing and keeps our code cleaner. While you can use any nick-name you want, please, please always use \"np\" for NumPy. It will make your code easier to follow for other programmers (and yourself).\n",
        "* To access a constant or function in the library, we use the following format:  module_name.thing_name.  In this case \"np\" is the name of the module (i.e library) and \"pi\" is the name of the object within the library."
      ],
      "metadata": {
        "id": "7Fyy2VbeQO4o"
      }
    },
    {
      "cell_type": "markdown",
      "source": [
        "### 3.3.1 List of commonly-used NumPy functions and constants\n",
        "NumPy has trig functions, square root, log and many others. It also has a function to convert radians to degree and vise versa. The following is a small  fraction of the total number of math functions available in NumPy."
      ],
      "metadata": {
        "id": "CVOKLYMdoWj2"
      }
    },
    {
      "cell_type": "code",
      "source": [
        "x = 0.5   # define a value for x\n",
        "y = 3     # define a value for y\n",
        "\n",
        "# constants\n",
        "np.pi         # pi\n",
        "np.e          # e\n",
        "np.inf        # infinity\n",
        "np.nan        # not a number\n",
        "\n",
        "# logarithmic and exponential functions\n",
        "np.sqrt(x)    # square root(x)\n",
        "np.exp(x)     # e^x\n",
        "np.log(x)     # ln(x)\n",
        "np.log10(x)   # log base 10(x)\n",
        "np.log2(x)    # log base 2(x)\n",
        "\n",
        "# trigonometric functions\n",
        "np.sin(x)     # sin(x)\n",
        "np.cos(x)     # cos(x)\n",
        "np.tan(x)     # tan(x)\n",
        "\n",
        "# degree-radian conversions\n",
        "np.deg2rad(x)     # converts degrees to radians\n",
        "np.rad2deg(x)     # converts radians to degrees\n",
        "\n",
        "# inverse trigonometric functions\n",
        "np.arcsin(x)  # asin(x)\n",
        "np.arccos(x)  # acos(x)\n",
        "np.arctan(x)  # atan(x)\n",
        "\n",
        "# hyperbolic functions\n",
        "np.sinh(x)    # hyperbolic sin\n",
        "np.cosh(x)    # hyperbolic cos\n",
        "np.tanh(x)    # hyperbolic tan\n"
      ],
      "metadata": {
        "id": "8Wmos6DesVnz",
        "outputId": "00a05d06-a4de-4c44-c4c0-70ccc106c0b4",
        "colab": {
          "base_uri": "https://localhost:8080/"
        }
      },
      "execution_count": 11,
      "outputs": [
        {
          "output_type": "execute_result",
          "data": {
            "text/plain": [
              "np.float64(0.46211715726000974)"
            ]
          },
          "metadata": {},
          "execution_count": 11
        }
      ]
    },
    {
      "cell_type": "markdown",
      "source": [
        "###✅ Skill Check 3\n",
        "Calculate $\\sin\\theta$, $\\cos\\theta$ and $\\tan\\theta$ for $\\theta=20^\\circ$. Don't forget to convert your angle into radians before applying the trig function."
      ],
      "metadata": {
        "id": "lVSa5x8myDFK"
      }
    },
    {
      "cell_type": "code",
      "source": [
        "import math\n",
        "theta_deg = 20\n",
        "theta_rad = math.radians(theta_deg)\n",
        "sin_theta = math.sin(theta_rad)\n",
        "cos_theta = math.cos(theta_rad)\n",
        "tan_theta = math.tan(theta_rad)\n",
        "\n",
        "print(f\"sin(20°) = {sin_theta:.4f}\")\n",
        "print(f\"cos(20°) = {cos_theta:.4f}\")\n",
        "print(f\"tan(20°) = {tan_theta:.4f}\")"
      ],
      "metadata": {
        "id": "C8Lj1QDHP2Yc",
        "outputId": "adcd7c86-9b86-47d6-e1ec-6421a8978453",
        "colab": {
          "base_uri": "https://localhost:8080/"
        }
      },
      "execution_count": 13,
      "outputs": [
        {
          "output_type": "stream",
          "name": "stdout",
          "text": [
            "sin(20°) = 0.3420\n",
            "cos(20°) = 0.9397\n",
            "tan(20°) = 0.3640\n"
          ]
        }
      ]
    },
    {
      "cell_type": "markdown",
      "source": [
        "###3.3.2 List of fundamental physical constants\n",
        "\n",
        "We'll copy our previous list of physical constants from Chapter 1 for use in the examples below."
      ],
      "metadata": {
        "id": "O4uxp6yOYvSg"
      }
    },
    {
      "cell_type": "code",
      "source": [
        "c = 299792458            # definition of the speed of light in m/s\n",
        "h = 6.626e-34            # Planck's constant (J s)\n",
        "hbar = 1.0546e-34        # \"h bar\" = h / (2*pi)  (J s)\n",
        "k = 1.3806e-23           # Boltzmann's constant (J/K)\n",
        "G = 6.6743e-11           # Gravitational constant (m^3/kg/s^2)\n",
        "e = 1.602177e-19         # fundamental charge (C)\n",
        "me = 9.10938e-31         # mass of electron (kg)\n",
        "epsilon0 = 8.854188e-12  # vacuum permittivity (F/m)\n",
        "u = 1.66054e-27          # atomic mass unit (kg)"
      ],
      "metadata": {
        "id": "TmAZGW7cZqGJ"
      },
      "execution_count": 14,
      "outputs": []
    },
    {
      "cell_type": "markdown",
      "source": [
        "###✅ Skill Check 4\n",
        "Use the fundamental physical constants defined above and the numpy value of $\\pi$ to calculate the inverse fine structure constant used in atomic physics:  $\\alpha^{-1} = 4\\pi \\epsilon_0 \\hbar c / e^2$. Display the calculated value using a print statement."
      ],
      "metadata": {
        "id": "Cer2rhentdBV"
      }
    },
    {
      "cell_type": "code",
      "source": [
        "import numpy as np\n",
        "\n",
        "c = 299792458            # speed of light (m/s)\n",
        "hbar = 1.0546e-34        # reduced Planck's constant (J·s)\n",
        "epsilon0 = 8.854188e-12  # vacuum permittivity (F/m)\n",
        "e = 1.602177e-19         # elementary charge (C)\n",
        "\n",
        "alpha_inv = (4 * np.pi * epsilon0 * hbar * c) / (e**2)\n",
        "\n",
        "print(\"Inverse fine structure constant (α⁻¹) =\", alpha_inv)\n"
      ],
      "metadata": {
        "id": "CmwYiDY5Z-hC",
        "outputId": "3a7a217d-877b-4d62-d958-bcb910acacf5",
        "colab": {
          "base_uri": "https://localhost:8080/"
        }
      },
      "execution_count": 15,
      "outputs": [
        {
          "output_type": "stream",
          "name": "stdout",
          "text": [
            "Inverse fine structure constant (α⁻¹) = 137.039601518022\n"
          ]
        }
      ]
    },
    {
      "cell_type": "markdown",
      "source": [
        "### 🔆 Example:  Free fall\n"
      ],
      "metadata": {
        "id": "lmAC1d-ehjNe"
      }
    },
    {
      "cell_type": "markdown",
      "source": [
        "Imagine dropping a rock off a tall cliff. The velocity of the rock (ignoring air resistance) when it hits the ground is given by $v = \\sqrt{2g h}$. Define variables to store the acceleration of gravity (9.8 m/s^2) and the height of the cliff (30 meters). Calcuate the velocity of the rock when it hits th ground and display your answer in a print statement.  \n",
        "\n",
        "**Solution**\n",
        "\n",
        "We import numpy to use the `sqrt()` function, define the variables, calculate the velocity and display the results showing 2 decimal places. Note, we don't actually have to import NumPy since we already imported it. We include it here to show a complete, self-contained example."
      ],
      "metadata": {
        "id": "8aG6VnBToGWs"
      }
    },
    {
      "cell_type": "code",
      "source": [
        "\n",
        "\n",
        "g = 9.8   # acceleration of gravity (m/s^2)\n",
        "h = 30    # height of cliff (m)\n",
        "\n",
        "v = np.sqrt(2*g*h)    # free-fall velocity\n",
        "\n",
        "print(f\"velocity = {v:.2f} m/s\")"
      ],
      "metadata": {
        "id": "SDnU_e2KnAGz",
        "outputId": "5aa75bed-2d25-4aa4-c365-8526da0916b8",
        "colab": {
          "base_uri": "https://localhost:8080/"
        }
      },
      "execution_count": 17,
      "outputs": [
        {
          "output_type": "stream",
          "name": "stdout",
          "text": [
            "velocity = 24.25 m/s\n"
          ]
        }
      ]
    },
    {
      "cell_type": "markdown",
      "source": [
        "◼ done"
      ],
      "metadata": {
        "id": "7fi1D9tOnoeC"
      }
    },
    {
      "cell_type": "markdown",
      "source": [
        "### ✅ Skill Check 5\n",
        "\n",
        "The mean velocity of a particle with mass $m$ in a gas with temperature $T$ is given by $v_{rms}=\\sqrt{3kT/m}$. Calculate and display $v_{rms}$ in m/s for hydrogen molecules ($m=2.02u$) and oxygen molecules ($m=16.00u$) at room temperature (300 K)."
      ],
      "metadata": {
        "id": "7rfUkRFlvXQN"
      }
    },
    {
      "cell_type": "code",
      "source": [
        "k = 1.3806e-23          # Boltzmann constant (J/K)\n",
        "u = 1.66054e-27         # atomic mass unit (kg)\n",
        "T = 300                 # temperature in K\n",
        "\n",
        "m_H2 = 2.02 * u\n",
        "m_O2 = 16.00 * u\n",
        "\n",
        "v_rms_H2 = np.sqrt((3 * k * T) / m_H2)\n",
        "v_rms_O2 = np.sqrt((3 * k * T) / m_O2)\n",
        "\n",
        "print('RMS velocity of H2 at 300 K:', v_rms_H2, 'm/s')\n",
        "print('RMS velocity of O2 at 300 K:', v_rms_O2, 'm/s')"
      ],
      "metadata": {
        "id": "YAIUlGOma34v",
        "outputId": "6d0c1a0c-1b1a-4593-fc07-b345d5e72e12",
        "colab": {
          "base_uri": "https://localhost:8080/"
        }
      },
      "execution_count": 18,
      "outputs": [
        {
          "output_type": "stream",
          "name": "stdout",
          "text": [
            "RMS velocity of H2 at 300 K: 1924.6636039381553 m/s\n",
            "RMS velocity of O2 at 300 K: 683.8652360121337 m/s\n"
          ]
        }
      ]
    },
    {
      "cell_type": "markdown",
      "source": [
        "## **Key Points**\n",
        "\n",
        "* Base Python includes a few mathematical operators including + - * / % //\n",
        "* Use parentheses in complex mathematical expressions sparingly to avoid confusion\n",
        "* Some Python functions have optional arguments that have default values. It is often helpful to explore the these arguments to increase productivity.\n",
        "* Libraries are commonly used in Python to extend funcionality\n",
        "* Numpy is a common library used for mathematical computation that has trig, log, square root, and many more advanced functions"
      ],
      "metadata": {
        "id": "Jbc4hEGJ1g9k"
      }
    },
    {
      "cell_type": "markdown",
      "source": [
        "This tutorial is a modified adaptation of \"[Python for Physicists](https://lucydot.github.io/python_novice/)\"\n",
        "© [Software Carpentry](http://software-carpentry.org/)\n"
      ],
      "metadata": {
        "id": "5pnXdFvAhvCZ"
      }
    }
  ]
}