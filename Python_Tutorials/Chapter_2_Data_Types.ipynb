{
  "nbformat": 4,
  "nbformat_minor": 0,
  "metadata": {
    "colab": {
      "provenance": [],
      "toc_visible": true,
      "include_colab_link": true
    },
    "kernelspec": {
      "name": "python3",
      "display_name": "Python 3"
    }
  },
  "cells": [
    {
      "cell_type": "markdown",
      "metadata": {
        "id": "view-in-github",
        "colab_type": "text"
      },
      "source": [
        "<a href=\"https://colab.research.google.com/github/joplinbrooke/Computational-Physics/blob/main/Python_Tutorials/Chapter_2_Data_Types.ipynb\" target=\"_parent\"><img src=\"https://colab.research.google.com/assets/colab-badge.svg\" alt=\"Open In Colab\"/></a>"
      ]
    },
    {
      "cell_type": "markdown",
      "source": [
        "# Chapter 2 - Data Types"
      ],
      "metadata": {
        "id": "Zs1hse2JWxg2"
      }
    },
    {
      "cell_type": "markdown",
      "source": [
        "Objectives:\n",
        "*  Learn about data types in Python including:  integer, float, boolean and string\n",
        "*  Learn how to convert one data type into another\n",
        "* learn how to use formatted printing"
      ],
      "metadata": {
        "id": "mYx7rd9VHabD"
      }
    },
    {
      "cell_type": "markdown",
      "source": [
        "##**2.0 Every variable (and value) has a type**\n",
        "* **Integer** (int): represents positive or negative whole numbers like 3 or -512.\n",
        "* **Floating point number** (float): represents real numbers like 3.14159 or -2.5.\n",
        "* **Complex**: Python uses `j` as the complex unit, so `c = 2 + 3j` is a complex number (assuming you haven't redefined `j` as a variable).\n",
        "* **Character string** (usually called “string”, str): text contained inside quotes like 'hello' or \"howdy\" (single and double quotes both work). The quote marks aren't printed when the string is displayed.\n",
        "* **Boolean** (bool):  variables that store True or False values. These variable are useful in loops and `if statements` that will be discussed later.\n",
        "\n"
      ],
      "metadata": {
        "id": "QIGhHIg1lqT5"
      }
    },
    {
      "cell_type": "markdown",
      "source": [
        "Let's define a few variables and examine their data types."
      ],
      "metadata": {
        "id": "BnrloF64BMvj"
      }
    },
    {
      "cell_type": "code",
      "source": [
        "x = 4           # integer\n",
        "y = 4.2         # float\n",
        "c = 1 + 2j      # complex\n",
        "a = 'dog'       # string\n",
        "happy = True    # boolean"
      ],
      "metadata": {
        "id": "qzzY2dgHB6Eb"
      },
      "execution_count": 1,
      "outputs": []
    },
    {
      "cell_type": "markdown",
      "source": [
        "Notice that in Jupyter Notebooks, number values are colored dark green, strings are red and Boolean values are blue.\n",
        "\n",
        "We can check the data type of a variable in two ways:\n",
        "*  Use the `type` function (hard way)\n",
        "*  Use the variable inspector (easy way)\n",
        "\n",
        "Here's an example of how to display the data type of our 4 variables using the `print()` and `type()` functions (run it to see the results):"
      ],
      "metadata": {
        "id": "C97zTdryDDep"
      }
    },
    {
      "cell_type": "code",
      "source": [
        "print('data type of x is',type(x))\n",
        "print('data type of y is',type(y))\n",
        "print('data type of c is',type(c))\n",
        "print('data type of a is',type(a))\n",
        "print('data type of happy is',type(happy))\n"
      ],
      "metadata": {
        "id": "oMmLhMxeErQm",
        "outputId": "4a39631a-3cb9-467a-b22b-6894c57f893d",
        "colab": {
          "base_uri": "https://localhost:8080/"
        }
      },
      "execution_count": 2,
      "outputs": [
        {
          "output_type": "stream",
          "name": "stdout",
          "text": [
            "data type of x is <class 'int'>\n",
            "data type of y is <class 'float'>\n",
            "data type of c is <class 'complex'>\n",
            "data type of a is <class 'str'>\n",
            "data type of happy is <class 'bool'>\n"
          ]
        }
      ]
    },
    {
      "cell_type": "markdown",
      "source": [
        "The next section shows how to use the Variable Inspector."
      ],
      "metadata": {
        "id": "AnTXvKBRFPlk"
      }
    },
    {
      "cell_type": "markdown",
      "source": [
        "##**2.1 The Variable Inspector**\n",
        "The **Variable Inspector** icon may be found on the bottom left corner of this window and it is labeled `{} Variables`.  Click this icon to display the variable inspector. You should see a list of all the variables you have used in this tutorial, their values, and their data types. While the Variable Inspector can be very helpful in debugging your code, be aware that it can slow down execution of complex code while it is open. Thus, you may want to only open it when it is needed.\n",
        "\n",
        "The Variable Inspector can be very useful for debugging code, especially when you start writing complex programs."
      ],
      "metadata": {
        "id": "AYRMH8SmDjLi"
      }
    },
    {
      "cell_type": "markdown",
      "source": [
        "## **2.2 Data types control what operations can be performed on a variable**\n",
        "\n",
        "The `+` operator has different effects on numbers and strings. Run the following code, for example:"
      ],
      "metadata": {
        "id": "9RbCM6M185k1"
      }
    },
    {
      "cell_type": "code",
      "source": [
        "x = 3\n",
        "y = 4\n",
        "print(x+y)     # the + operator adds number\n",
        "\n",
        "a = 'Marie '   # notice we added a space at the end of 'Marie'\n",
        "b = 'Curie'\n",
        "print(a+b)     # the + operator concatenates strings"
      ],
      "metadata": {
        "id": "n-cj6wTynLli",
        "outputId": "404373c0-178c-412c-d58b-584e807d3f57",
        "colab": {
          "base_uri": "https://localhost:8080/"
        }
      },
      "execution_count": 3,
      "outputs": [
        {
          "output_type": "stream",
          "name": "stdout",
          "text": [
            "7\n",
            "Marie Curie\n"
          ]
        }
      ]
    },
    {
      "cell_type": "markdown",
      "source": [
        "We see that the `+` operator:\n",
        "* adds numbers (either floats or ints)\n",
        "* concatenates strings. In other words, it sticks the two strings together to make a longer string"
      ],
      "metadata": {
        "id": "6uy-uMchnRVL"
      }
    },
    {
      "cell_type": "markdown",
      "source": [
        "### ✅ Skill Check 1\n",
        "See what effect the `*` operator has on strings\n",
        "* Create a code cell\n",
        "* assign a character string to a variable (for example, you could name it `my_string`)\n",
        "* print your string variable as well as the value `10*my_string`.\n",
        "* Your print statement should say something like 'If my_string = \\_\\_\\_, then 10 * my_string = \\_\\_\\_, where your code fills in the blanks \\_\\_\\_.\n"
      ],
      "metadata": {
        "id": "gxpObwG_RL3s"
      }
    },
    {
      "cell_type": "code",
      "source": [
        "my_string = \"hi!\"\n",
        "result = 10*my_string\n",
        "print(f\"If my_string = {my_string},then 10*my_string = {result}\")"
      ],
      "metadata": {
        "id": "DhLoAn31-Q_v",
        "outputId": "a9cba7e9-8623-4053-c47a-bba218efb5bd",
        "colab": {
          "base_uri": "https://localhost:8080/"
        }
      },
      "execution_count": 12,
      "outputs": [
        {
          "output_type": "stream",
          "name": "stdout",
          "text": [
            "If my_string = hi!,then 10*my_string = hi!hi!hi!hi!hi!hi!hi!hi!hi!hi!\n"
          ]
        }
      ]
    },
    {
      "cell_type": "markdown",
      "source": [
        "##**2.3 Data Types can be converted into one another**\n",
        "\n"
      ],
      "metadata": {
        "id": "RI4P_qUvxPMc"
      }
    },
    {
      "cell_type": "markdown",
      "source": [
        "###2.3.1 Convert string to integer\n",
        "A common situation when you might want to convert a string to an integer is when the `input()` statement is used to prompt the user for a number. Run the following:\n"
      ],
      "metadata": {
        "id": "T4SQHa0BaGyH"
      }
    },
    {
      "cell_type": "code",
      "source": [
        "result = input('Enter an integer:  ')\n",
        "print('the data type of ',result,'is',type(result))\n",
        "print('4 *',result,'=',4*result)"
      ],
      "metadata": {
        "id": "W0dyvDD-yFxE",
        "outputId": "13c45f5c-de72-4c72-a6be-b3178de6275a",
        "colab": {
          "base_uri": "https://localhost:8080/"
        }
      },
      "execution_count": 13,
      "outputs": [
        {
          "output_type": "stream",
          "name": "stdout",
          "text": [
            "Enter an integer:  7\n",
            "the data type of  7 is <class 'str'>\n",
            "4 * 7 = 7777\n"
          ]
        }
      ]
    },
    {
      "cell_type": "markdown",
      "source": [
        "* The default data type returned by the `input` statement is a string.\n",
        "* This can be confusing:  even though the variable `result` shows its value to be `4`, we can't do any math with it yet because it is a string and not an integer or float.\n",
        "* In the above code cell, we try multiplying our string variable `result` by 4 to get a surprising result!!\n",
        "* To convert this string to an integer we can use `int()`:"
      ],
      "metadata": {
        "id": "PalUkglK-3hY"
      }
    },
    {
      "cell_type": "code",
      "source": [
        "n = int(result)\n",
        "print('the data type of ',n,'is',type(n))\n",
        "print('4 *',n,'=',4*n)"
      ],
      "metadata": {
        "id": "Y_GyGu00_LJB",
        "outputId": "4c57bbc9-b701-404a-f4e0-6493f6b76508",
        "colab": {
          "base_uri": "https://localhost:8080/"
        }
      },
      "execution_count": 14,
      "outputs": [
        {
          "output_type": "stream",
          "name": "stdout",
          "text": [
            "the data type of  7 is <class 'int'>\n",
            "4 * 7 = 28\n"
          ]
        }
      ]
    },
    {
      "cell_type": "markdown",
      "source": [
        "* We see that multiplication makes more sense now that we are multiplying an integer and not a string."
      ],
      "metadata": {
        "id": "KYrRfcWgA-zt"
      }
    },
    {
      "cell_type": "markdown",
      "source": [
        "###2.3.2 Convert string to float\n",
        "The `float()` function converts strings to floats:"
      ],
      "metadata": {
        "id": "jVqROcjuAI82"
      }
    },
    {
      "cell_type": "code",
      "source": [
        "a = '9.8'\n",
        "g = float(a)\n",
        "print('the data type of ',a,'is',type(a))\n",
        "print('the data type of ',g,'is',type(g))"
      ],
      "metadata": {
        "id": "QmlkGDYlAosX",
        "outputId": "2bf852f9-f7f3-473f-f1d3-6a017e512745",
        "colab": {
          "base_uri": "https://localhost:8080/"
        }
      },
      "execution_count": 15,
      "outputs": [
        {
          "output_type": "stream",
          "name": "stdout",
          "text": [
            "the data type of  9.8 is <class 'str'>\n",
            "the data type of  9.8 is <class 'float'>\n"
          ]
        }
      ]
    },
    {
      "cell_type": "markdown",
      "source": [
        "###2.3.3 Convert integers and floats to strings\n",
        "The simplest way to convert a number (either an integer or float) to a string is the `str()` function:"
      ],
      "metadata": {
        "id": "-lpRI9_tBPC9"
      }
    },
    {
      "cell_type": "code",
      "source": [
        "a = str(3.14)\n",
        "print('the data type of ',a,'is',type(a))\n"
      ],
      "metadata": {
        "id": "4IKRVH1hByMu",
        "outputId": "50898fa6-fcc1-44a8-b49a-c268350a875a",
        "colab": {
          "base_uri": "https://localhost:8080/"
        }
      },
      "execution_count": 16,
      "outputs": [
        {
          "output_type": "stream",
          "name": "stdout",
          "text": [
            "the data type of  3.14 is <class 'str'>\n"
          ]
        }
      ]
    },
    {
      "cell_type": "markdown",
      "source": [
        "The method described in the next section describes how to have more control over the appearance of string representations of numbers."
      ],
      "metadata": {
        "id": "XGbgHIm3B_Lx"
      }
    },
    {
      "cell_type": "markdown",
      "source": [
        "###2.3.4 Convert float to integer\n",
        "\n",
        "If we want to remove the digits to the right of the decimal point, we can just use the `int()` command like this:"
      ],
      "metadata": {
        "id": "KxuYKC79MVSv"
      }
    },
    {
      "cell_type": "code",
      "source": [
        "p = int(2.999)\n",
        "print(p)"
      ],
      "metadata": {
        "id": "RNzbyYipMwSi",
        "outputId": "46743acb-e23f-41a7-c149-8668e0dc7ddb",
        "colab": {
          "base_uri": "https://localhost:8080/"
        }
      },
      "execution_count": 17,
      "outputs": [
        {
          "output_type": "stream",
          "name": "stdout",
          "text": [
            "2\n"
          ]
        }
      ]
    },
    {
      "cell_type": "markdown",
      "source": [
        "However, if you want to round your float to the nearest integer, you can use `round()`:"
      ],
      "metadata": {
        "id": "t9MRRM6nNVic"
      }
    },
    {
      "cell_type": "code",
      "source": [
        "r = round(2.999)\n",
        "print(r)"
      ],
      "metadata": {
        "id": "MbMqcwZ3Okeu",
        "outputId": "eeef864f-e940-4fe5-f859-52a20c73dda1",
        "colab": {
          "base_uri": "https://localhost:8080/"
        }
      },
      "execution_count": 18,
      "outputs": [
        {
          "output_type": "stream",
          "name": "stdout",
          "text": [
            "3\n"
          ]
        }
      ]
    },
    {
      "cell_type": "markdown",
      "source": [
        "Both of these methods convert floats to ints. You can verify this in the Variable Inspector or by using the `type()` command."
      ],
      "metadata": {
        "id": "IW7P6r4XPEhI"
      }
    },
    {
      "cell_type": "markdown",
      "source": [
        "###2.3.5 Convert Integer to Float\n",
        "\n",
        "We can convert an iteger to a float by using the `float()` command:"
      ],
      "metadata": {
        "id": "8PLYGW0bPdnB"
      }
    },
    {
      "cell_type": "code",
      "source": [
        "q = float(3)\n",
        "print(\"The data type of\",q,\"is\",type(q))"
      ],
      "metadata": {
        "id": "AUE7ta2VP70n",
        "outputId": "882ea3ee-0884-4c09-d357-57b4b5416531",
        "colab": {
          "base_uri": "https://localhost:8080/"
        }
      },
      "execution_count": 19,
      "outputs": [
        {
          "output_type": "stream",
          "name": "stdout",
          "text": [
            "The data type of 3.0 is <class 'float'>\n"
          ]
        }
      ]
    },
    {
      "cell_type": "markdown",
      "source": [
        "### ✅ Skill Check 2\n",
        "\n",
        "What happens when you add or multiply a float by an integer?  Is the resulting data type float or int?  Write some code to show an example of each. Create a code cell to try out your examples and create a text cell to explain your answer."
      ],
      "metadata": {
        "id": "S4LvX-W-Qf0a"
      }
    },
    {
      "cell_type": "code",
      "source": [
        "# addition\n",
        "a = 3.5 # float\n",
        "b = 2 # integer\n",
        "sum_result = a+b\n",
        "\n",
        "# multiplication\n",
        "c = 4.2 # float\n",
        "d = 3 # integer\n",
        "product_result = c*d\n",
        "\n",
        "print(\"Addition: 3.5 + 2=\", sum_result, \"-> type:\", type(sum_result))\n",
        "print(\"Multiplication: 4.2 * 3 =\", product_result, \"-> type:\", type(product_result))\n"
      ],
      "metadata": {
        "id": "mC8ERzfZ_3wN",
        "outputId": "6c67de7b-2e63-46d5-8338-ca891d6900c8",
        "colab": {
          "base_uri": "https://localhost:8080/"
        }
      },
      "execution_count": 20,
      "outputs": [
        {
          "output_type": "stream",
          "name": "stdout",
          "text": [
            "Addition: 3.5 + 2= 5.5 -> type: <class 'float'>\n",
            "Multiplication: 4.2 * 3 = 12.600000000000001 -> type: <class 'float'>\n"
          ]
        }
      ]
    },
    {
      "cell_type": "markdown",
      "source": [
        "When you add a float and an integer, Python automatically promotes the integer to a float to avoid losing decimal precision.\n",
        "Similarly, when you multiply a float and an integer, the result is also a float."
      ],
      "metadata": {
        "id": "g1qW8R-rBRMa"
      }
    },
    {
      "cell_type": "markdown",
      "source": [
        "##**2.4 f-strings and formatted print**\n",
        "\n",
        "Let's suppose we are given the a number with more significant digits than we care about. We want to display our number keeping only two decimal places to the right of decimal place. We can do this with a formatted \"f\" string like this:\n",
        "\n",
        "\n",
        "\n"
      ],
      "metadata": {
        "id": "qlF7QiepoM1D"
      }
    },
    {
      "cell_type": "code",
      "source": [
        "x = 316.227766       # float number showing 6 decimal places\n",
        "x_str = f'{x:.2f}'   # string representation of x keeping 2 decimal places\n",
        "print(x_str)         # display the truncated value"
      ],
      "metadata": {
        "id": "wwcU8NGNF08w"
      },
      "execution_count": null,
      "outputs": []
    },
    {
      "cell_type": "markdown",
      "source": [
        "A formatted string has text inside a pair of quotes, but with the letter \"f\" out in front. We place a variable that we want to format inside curly braces followed by a formatting string. In the above example, the `:.2f` means we want to format the number as a float and keep 2 digits to the right of the decimal point.\n",
        "\n",
        "If we just want to print the formatted number, we can just include the formatted string directly in the print function without the `x_str` variable:"
      ],
      "metadata": {
        "id": "XyJCn3MJG_wh"
      }
    },
    {
      "cell_type": "code",
      "source": [
        "print(f'{x:.2f}')    # simplified formatted print"
      ],
      "metadata": {
        "id": "Vy-gKNO5UR2D",
        "outputId": "9a988117-2a8d-4e46-fffd-24e2161faa45",
        "colab": {
          "base_uri": "https://localhost:8080/"
        }
      },
      "execution_count": 21,
      "outputs": [
        {
          "output_type": "stream",
          "name": "stdout",
          "text": [
            "3.00\n"
          ]
        }
      ]
    },
    {
      "cell_type": "markdown",
      "source": [
        "Here are more examples for formatting floats:"
      ],
      "metadata": {
        "id": "r85HKsYVUfyV"
      }
    },
    {
      "cell_type": "code",
      "source": [
        "print(f'1st example {x:.2f}')   # displays float with 2 decimal places\n",
        "print(f'2nd example {x:.4f}')   # displays float with 4 decimal places\n",
        "print(f'3rd example {x:12.5f}') # displays float with 5 decimal places and reserves total of 12 places\n",
        "print(f'4th example {x:.2e}')   # scientific notation with 2 digits after the decimal"
      ],
      "metadata": {
        "id": "uyD9fk1QODEv",
        "outputId": "7289414d-8d4c-4deb-d205-6cf4a46eac01",
        "colab": {
          "base_uri": "https://localhost:8080/"
        }
      },
      "execution_count": 22,
      "outputs": [
        {
          "output_type": "stream",
          "name": "stdout",
          "text": [
            "1st example 3.00\n",
            "2nd example 3.0000\n",
            "3rd example      3.00000\n",
            "4th example 3.00e+00\n"
          ]
        }
      ]
    },
    {
      "cell_type": "markdown",
      "source": [
        "For integers you can specify the number of spaces set aside for columns of numbers. The formatting symbol for integers is \"d\". Heres's an example showing what happens when you print a set of numbers with different numbers of digits both with and without formatting. Since our biggest number has 5 digits, we'll reserve 5 digits for each data column using the format `{my_var:5d}`, where you would replace \"`my_var`\" with your variable name."
      ],
      "metadata": {
        "id": "rnhb6cdNC31p"
      }
    },
    {
      "cell_type": "code",
      "source": [
        "a = 2; b = 21043; c = 77; d =764\n",
        "print(f\"{a:5d}  {a:5d}      {a}  {a}\")\n",
        "print(f\"{b:5d}  {b:5d}      {b}  {b}\")\n",
        "print(f\"{c:5d}  {c:5d}      {c}  {c}\")\n",
        "print(f\"{d:5d}  {d:5d}      {d}  {d}\")"
      ],
      "metadata": {
        "id": "_v8qC_qID0o6",
        "outputId": "5c023665-3507-4ee2-8e44-aac5ec8da5ff",
        "colab": {
          "base_uri": "https://localhost:8080/"
        }
      },
      "execution_count": 23,
      "outputs": [
        {
          "output_type": "stream",
          "name": "stdout",
          "text": [
            "    2      2      2  2\n",
            "21043  21043      21043  21043\n",
            "   77     77      77  77\n",
            "  764    764      764  764\n"
          ]
        }
      ]
    },
    {
      "cell_type": "markdown",
      "source": [
        "Notice how the first two columns that are formated are nicely lined up (and right-justified), while the last two columns aren't. As we'll see later, formatted print statements are particularly useful when saving data to text files."
      ],
      "metadata": {
        "id": "QG9HulLQFLdX"
      }
    },
    {
      "cell_type": "markdown",
      "source": [
        "You can get fancy and include text and multiple formatted variables in the same print statement like this:"
      ],
      "metadata": {
        "id": "PX0aIeDqWB5I"
      }
    },
    {
      "cell_type": "code",
      "source": [
        "x = 4.334565   # x measurement\n",
        "y = 12.4848    # y measurement\n",
        "print(f'My measurements are x = {x:.2f} and y = {y:.2f}')"
      ],
      "metadata": {
        "id": "8sUfQcTrQ3YG",
        "outputId": "8d94eb51-9181-4e98-aa39-cffe5976cb70",
        "colab": {
          "base_uri": "https://localhost:8080/"
        }
      },
      "execution_count": 24,
      "outputs": [
        {
          "output_type": "stream",
          "name": "stdout",
          "text": [
            "My measurements are x = 4.33 and y = 12.48\n"
          ]
        }
      ]
    },
    {
      "cell_type": "markdown",
      "source": [
        "Remember, the variables go inside curly braces with the formatting."
      ],
      "metadata": {
        "id": "rNgEe80wXVIp"
      }
    },
    {
      "cell_type": "markdown",
      "source": [
        "### ✅ Skill Check 3\n",
        "\n",
        "Write some code to prompt the user to enter a floating-point number. Break the number into its integer part (numbers to the left of the decimal) and the fractional part (numbers to the right of the decimal). Use a single print statement to display the original number, the whole part and the decimal part. Your print statement should produce a result that is easy to understand to the user."
      ],
      "metadata": {
        "id": "G2DsbKwjljoP"
      }
    },
    {
      "cell_type": "code",
      "source": [
        "num = float(input(\"Enter a floating-point number: \"))\n",
        "integer_part = int(num)\n",
        "fractional_part = num - integer_part\n",
        "print(f\"Original number: {num}, Whole part: {integer_part}, Fractional part: {fractional_part}\")"
      ],
      "metadata": {
        "id": "0IG6ohRdBpwC",
        "outputId": "60f35891-9e72-4ced-e64d-ab5288a80804",
        "colab": {
          "base_uri": "https://localhost:8080/"
        }
      },
      "execution_count": 26,
      "outputs": [
        {
          "output_type": "stream",
          "name": "stdout",
          "text": [
            "Enter a floating-point number: 57\n",
            "Original number: 57.0, Whole part: 57, Fractional part: 0.0\n"
          ]
        }
      ]
    },
    {
      "cell_type": "markdown",
      "source": [
        "### ✅ Skill Check 4\n",
        "\n",
        "The following code block defines the x and y coordinates of an object. In the same code cell create a formatted print statement that uses these variables to display the position as a coordinate pair, where each position is displayed with 2 digits to the right of the decimal.  Use the print statement to place the numbers inside parentheses and separated by a comma. Your final result should look like \"(2.33, 5.95)\". Hint:  you can print the parentheses and comma by placing them in quotes, i.e. \"(\" and \",\"."
      ],
      "metadata": {
        "id": "lyX2u4oynzf2"
      }
    },
    {
      "cell_type": "code",
      "source": [
        "x = 2.33456    # x position in meters\n",
        "y = 5.94843    # y position in meters\n",
        "print(f\"({x:.2f}, {y:.2f})\")\n"
      ],
      "metadata": {
        "id": "ZF6FRAZwo7H4",
        "outputId": "1b3bb3e7-b5e3-4d9c-8bf5-87e6a1dd4cd7",
        "colab": {
          "base_uri": "https://localhost:8080/"
        }
      },
      "execution_count": 28,
      "outputs": [
        {
          "output_type": "stream",
          "name": "stdout",
          "text": [
            "(2.33, 5.95)\n"
          ]
        }
      ]
    },
    {
      "cell_type": "markdown",
      "source": [
        "## 2.5 Possible errors\n",
        "\n"
      ],
      "metadata": {
        "id": "6uc8QlM9Fr_C"
      }
    },
    {
      "cell_type": "markdown",
      "source": [
        "### Unsupported operands\n",
        "\n",
        "* If we try to do math with variables that are strings (or other non-numeric types), we can get the unsupported operand error:"
      ],
      "metadata": {
        "id": "AF0O4F0CI876"
      }
    },
    {
      "cell_type": "code",
      "source": [
        "a = \"3\"\n",
        "b = \"2\"\n",
        "\n",
        "c = a-b"
      ],
      "metadata": {
        "id": "u9wrxgZAFzFD",
        "outputId": "4bd5afdf-243f-4212-cc49-7c29fc1c5147",
        "colab": {
          "base_uri": "https://localhost:8080/",
          "height": 173
        }
      },
      "execution_count": 29,
      "outputs": [
        {
          "output_type": "error",
          "ename": "TypeError",
          "evalue": "unsupported operand type(s) for -: 'str' and 'str'",
          "traceback": [
            "\u001b[0;31m---------------------------------------------------------------------------\u001b[0m",
            "\u001b[0;31mTypeError\u001b[0m                                 Traceback (most recent call last)",
            "\u001b[0;32m/tmp/ipython-input-3837508904.py\u001b[0m in \u001b[0;36m<cell line: 0>\u001b[0;34m()\u001b[0m\n\u001b[1;32m      2\u001b[0m \u001b[0mb\u001b[0m \u001b[0;34m=\u001b[0m \u001b[0;34m\"2\"\u001b[0m\u001b[0;34m\u001b[0m\u001b[0;34m\u001b[0m\u001b[0m\n\u001b[1;32m      3\u001b[0m \u001b[0;34m\u001b[0m\u001b[0m\n\u001b[0;32m----> 4\u001b[0;31m \u001b[0mc\u001b[0m \u001b[0;34m=\u001b[0m \u001b[0ma\u001b[0m\u001b[0;34m-\u001b[0m\u001b[0mb\u001b[0m\u001b[0;34m\u001b[0m\u001b[0;34m\u001b[0m\u001b[0m\n\u001b[0m",
            "\u001b[0;31mTypeError\u001b[0m: unsupported operand type(s) for -: 'str' and 'str'"
          ]
        }
      ]
    },
    {
      "cell_type": "markdown",
      "source": [
        "* One possible solution is to convert the variable to an integer or float using the methods described in this chapter"
      ],
      "metadata": {
        "id": "GPve_b4bG65A"
      }
    },
    {
      "cell_type": "markdown",
      "source": [
        "###Invalid literal\n",
        "\n",
        "In this example, we try converting the string \"cat\" to an integer (which doesn't make sense). You can only convert string representations of numbers to integers or floats."
      ],
      "metadata": {
        "id": "G5d2lvQFHkC0"
      }
    },
    {
      "cell_type": "code",
      "source": [
        "int(\"cat\")"
      ],
      "metadata": {
        "id": "z27pu7b3G700",
        "outputId": "b6fd2c7d-4181-48ac-cb4c-df99ec4255eb",
        "colab": {
          "base_uri": "https://localhost:8080/",
          "height": 139
        }
      },
      "execution_count": 30,
      "outputs": [
        {
          "output_type": "error",
          "ename": "ValueError",
          "evalue": "invalid literal for int() with base 10: 'cat'",
          "traceback": [
            "\u001b[0;31m---------------------------------------------------------------------------\u001b[0m",
            "\u001b[0;31mValueError\u001b[0m                                Traceback (most recent call last)",
            "\u001b[0;32m/tmp/ipython-input-4294794279.py\u001b[0m in \u001b[0;36m<cell line: 0>\u001b[0;34m()\u001b[0m\n\u001b[0;32m----> 1\u001b[0;31m \u001b[0mint\u001b[0m\u001b[0;34m(\u001b[0m\u001b[0;34m\"cat\"\u001b[0m\u001b[0;34m)\u001b[0m\u001b[0;34m\u001b[0m\u001b[0;34m\u001b[0m\u001b[0m\n\u001b[0m",
            "\u001b[0;31mValueError\u001b[0m: invalid literal for int() with base 10: 'cat'"
          ]
        }
      ]
    },
    {
      "cell_type": "markdown",
      "source": [
        "##**Key Points**\n",
        "* Every variable (and value) has a data type\n",
        "* The Variable Inspector is useful for debugging code and quickly seeing the data type and values of variables\n",
        "* Data types control what operations can be performed on a variable\n",
        "* Data types can be converted into one another\n",
        "* formatted f-strings allow fancy formatting of variables in a print statement"
      ],
      "metadata": {
        "id": "kluW1t-oa5o0"
      }
    },
    {
      "cell_type": "markdown",
      "source": [
        "This tutorial is a modified adaptation of [link text](https://) \"[Python for Physicists](https://lucydot.github.io/python_novice/)\"\n",
        "© [Software Carpentry](http://software-carpentry.org/)\n"
      ],
      "metadata": {
        "id": "5pnXdFvAhvCZ"
      }
    }
  ]
}