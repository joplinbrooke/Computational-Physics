{
  "nbformat": 4,
  "nbformat_minor": 0,
  "metadata": {
    "colab": {
      "provenance": [],
      "toc_visible": true,
      "include_colab_link": true
    },
    "kernelspec": {
      "name": "python3",
      "display_name": "Python 3"
    },
    "language_info": {
      "name": "python"
    }
  },
  "cells": [
    {
      "cell_type": "markdown",
      "metadata": {
        "id": "view-in-github",
        "colab_type": "text"
      },
      "source": [
        "<a href=\"https://colab.research.google.com/github/joplinbrooke/Computational-Physics/blob/main/Python_Tutorials/Chapter_0_Welcome.ipynb\" target=\"_parent\"><img src=\"https://colab.research.google.com/assets/colab-badge.svg\" alt=\"Open In Colab\"/></a>"
      ]
    },
    {
      "cell_type": "markdown",
      "metadata": {
        "id": "YV4sYCn8EPwb"
      },
      "source": [
        "# Chapter 0 - Welcome to Python and Jupyter Notebooks\n",
        "\n",
        "\n"
      ]
    },
    {
      "cell_type": "markdown",
      "source": [
        "Objectives:\n",
        "*   Be introduced to Jupyter Notebooks and the Google Colab computing environment\n",
        "*   Run a simple \"Hello World\" code\n",
        "*   Learn about comments to document code\n",
        "\n"
      ],
      "metadata": {
        "id": "Xlz-AF8sGueB"
      }
    },
    {
      "cell_type": "markdown",
      "source": [
        "##**0.0 Introduction**"
      ],
      "metadata": {
        "id": "YTfuKanxY-yb"
      }
    },
    {
      "cell_type": "markdown",
      "metadata": {
        "id": "2HuuwOcQEYQI"
      },
      "source": [
        "This tutorial is a Jupyter Notebook running in Google Colab. Jupyter notebooks are a great way to mix executable Python code with rich contents (HTML, images, equations written in LaTeX). Colab allows us to run notebooks on the cloud for free without installing Python on your computer.\n",
        "\n",
        "The purpose of creating an interactive Coding Tutorial is for you to play with the code and try things out. If you \"break\" the document, you can always go back and re-download the original, so please experiment. The most important thing is to have a curious mindset, try things out and have fun!\n",
        "\n",
        "These tutorials are designed to be self-contained so you should be able to learn the basics of Python by reading through them and doing the exercises at your own pace.\n"
      ]
    },
    {
      "cell_type": "markdown",
      "source": [
        "## 0.1 Google Colab can be SLOW\n",
        "\n",
        "To have an enjoyable google Colab experience, we recommend the following:\n",
        "* Only have a couple tabs open in your browser\n",
        "* Work on a relatively fast internet connection\n",
        "* Don't multitask:  try to have as few things running on your computer as possible\n",
        "* If Colab is running slow, \"Cycle the power\", i.e. turn your computer off and back on.\n",
        "* Try different browsers. Google Chrome often does pretty well.\n",
        "* Be patient. Colab can often be \"laggy\" so when you click or type something wait a few seconds if you don't see an immediate response\n",
        "* Even though Colab autosaves your work, we recommend periodically saving your work (File -> Save) or ctrl-S (command-S on Mac).\n",
        "* Find a meditation practice that you like. Seriously. Coding an be creative and fun but also super frustrating. Meditation can help."
      ],
      "metadata": {
        "id": "3GyRJRD17lAa"
      }
    },
    {
      "cell_type": "markdown",
      "source": [
        "##0.2 Code Cells and Text Cells\n",
        "\n",
        "Everything in this document is written in either a Code Cell or a Text Cell.\n",
        "* **Code Cells** are sections of the document where your can type Python commands and run your code without having to download Python onto your computer. You use \"the cloud\" (i.e. someone else's computer) to do the processing.\n",
        "* **Text Cells** are sections (like this one) where text, equations, images, etc. are placed.\n",
        "\n",
        "To create your own Code Cell or a Text Cell, do the following:\n",
        "*  slowly move your cursor up and down this notebook.\n",
        "* When you come to the end of a cell, a horizontal line should appear. In the center of the line you should see two buttons labeled \"+ Code\" and \"+ Text\"\n",
        "* Click whichever button you like to create a new cell.\n",
        "* You can always delete a cell by clicking on it to reveal a menu bar that contains a trash can.\n",
        "\n",
        "Note: Every section that contains multiple Text and Code cells will have an expand/collapse icon next to it. You can use these to hide (or reveal) the content in that section.\n",
        "\n"
      ],
      "metadata": {
        "id": "6d_w8l530OPP"
      }
    },
    {
      "cell_type": "markdown",
      "metadata": {
        "id": "t0XmMkPuGGOs"
      },
      "source": [
        "##0.3 Running your first Python program\n",
        "\n",
        "The document that you are reading is not a static web page, but an interactive environment called a notebook that lets you write and execute code. Notebooks consist of so-called code cells, which are blocks of one or more Python instructions. For example, here is a code cell that displays the message \"Hello World\" to the screen. The `print()` command is used to display messages or variables to the screen. Our message can be enclosed in either single or double quotes."
      ]
    },
    {
      "cell_type": "code",
      "metadata": {
        "id": "qeGAvLq1ALJ4",
        "colab": {
          "base_uri": "https://localhost:8080/"
        },
        "outputId": "c107c5b5-84e8-47f3-e0d2-22d72a8a121f"
      },
      "source": [
        "print(\"Hello World\")"
      ],
      "execution_count": 1,
      "outputs": [
        {
          "output_type": "stream",
          "name": "stdout",
          "text": [
            "Hello World\n"
          ]
        }
      ]
    },
    {
      "cell_type": "markdown",
      "metadata": {
        "id": "njoPs3q1G75-"
      },
      "source": [
        "* Position your cursor over the code cell above\n",
        "* A play button ▶ should appear on the left side of the code cell. Click the play button to execute the cell.\n",
        "* The message in the print statement should appear below line and a green checkmark should appear to the left of the code box indicating the code has been executed.\n",
        "* Alternatively, you can also execute the cell by pressing Ctrl + Enter if you are on Windows / Linux or Command + Return if you are on a Mac.\n",
        "\n"
      ]
    },
    {
      "cell_type": "markdown",
      "source": [
        "##0.4 Skill Checks let you practice coding\n",
        "\n",
        "Each tutorial has a set of Skill Checks (indicated by green check boxes ✅) that you will need to complete to receive credit for  each chapter. Here's your first Skill Check:"
      ],
      "metadata": {
        "id": "gxZq3wX96jcy"
      }
    },
    {
      "cell_type": "markdown",
      "source": [
        "### ✅ **Skill Check**  \n",
        "\n",
        "* Add a code cell below this cell:  position your cursor right below this cell and above the green square. (The green square marks the end of the Skill Check). Two menu options should appear labeled \"+ Code\" and \"+ Text\". Click \"+ Code\".\n",
        "* In the Code Cell cell, use a print statement to create your own message. When you are done, click the play button to display the new message.\n",
        "* After you get it to work, create a Text Cell and type the message \"I did it!\""
      ],
      "metadata": {
        "id": "OBnG8DqOr6Ph"
      }
    },
    {
      "cell_type": "markdown",
      "source": [
        "🟩\n",
        "\n"
      ],
      "metadata": {
        "id": "j9O04TX3Al-V"
      }
    },
    {
      "cell_type": "code",
      "source": [
        "print(\"Brooke is so cool\")\n"
      ],
      "metadata": {
        "colab": {
          "base_uri": "https://localhost:8080/"
        },
        "id": "yQ1rXzBiyk40",
        "outputId": "f2ceddbe-2194-4d44-898f-a89a7123d01c"
      },
      "execution_count": 3,
      "outputs": [
        {
          "output_type": "stream",
          "name": "stdout",
          "text": [
            "Brooke is so cool\n"
          ]
        }
      ]
    },
    {
      "cell_type": "markdown",
      "source": [
        "i did it!"
      ],
      "metadata": {
        "id": "IkJZgnLZyzEB"
      }
    },
    {
      "cell_type": "markdown",
      "source": [
        "### ✅ **Skill Check**  \n",
        "\n",
        "* Print one or more of your favorite emojis. You can insert an emoji using the following methods:\n",
        "* On a mac, press ctrl-command-space, then scroll through the emojis\n",
        "* On a PC, press the windows key and period (.)\n",
        "* Make sure your emoji is inside quotes like this:  `print(\"🐠🐠🐠\")`"
      ],
      "metadata": {
        "id": "jQcxKDGgQVSL"
      }
    },
    {
      "cell_type": "code",
      "source": [
        "print(\"🐸🐸🐸\")"
      ],
      "metadata": {
        "colab": {
          "base_uri": "https://localhost:8080/"
        },
        "id": "RgXRKNZRy2SS",
        "outputId": "aa022acf-e9b8-4167-d0cf-2aa8c5db671f"
      },
      "execution_count": 4,
      "outputs": [
        {
          "output_type": "stream",
          "name": "stdout",
          "text": [
            "🐸🐸🐸\n"
          ]
        }
      ]
    },
    {
      "cell_type": "markdown",
      "source": [
        "##0.5 Table of Contents\n",
        "\n",
        "This tutorial is divided into chapters, each in a separate Jupyter Notebook. You can view the contents of a given chapter by clicking on the Contents icon found at the top of the left-hand icon bar (it looks the \"hamburger\" icon $\\equiv$ with 3 dots in front of it).  Click on it now to try it out!"
      ],
      "metadata": {
        "id": "jdjOCX7ZsUBi"
      }
    },
    {
      "cell_type": "markdown",
      "source": [
        "##0.6 Turn the Google AI assistant off\n",
        "\n",
        "Google Colab documents have a built-in AI assistant (called Gemini at the time of this writing). I've noticed that as I've written these tutorials, Gemini will read my text and then automatically produce sample Python code once I create a Code Cell. Most of the time, Gemini does a pretty good job of \"understanding\" my intention and writing code that I would have written. It's actually pretty amazing.\n",
        "\n",
        "In fact, AI tools have revolutionized how folks code. AI assistants like chatGPT, GitHub Copilot, Cursor, and many others can speed up code production immensely. Later in the course, we will explore some of these tools. Overall, we think AI is a good thing for coding, not a bad thing.\n",
        "\n",
        "However, when you are first learning the basics of Python, and perhaps coding in general,  the AI assistant can make the execises in these tutorials too easy. Psychologists who study learning talk about cognitive load theory and the idea of \"desirable struggle\":\n",
        "* **Desireable struggle**: When a task is hard enough to force you to actively retrieve, reason, and problem-solve, but not so hard that you get stuck in frustration.\n",
        "* **Overload:** If the challenge is too high (too much cognitive load), you can shut down, feel lost, or just copy without understanding.\n",
        "* **Underload**: If the challenge is too low (everything done for you), you don’t engage deeply, so nothing sticks.\n",
        "\n",
        "If you leave the Autocomplete setting in Gemini turned on, it will automatically produce many of the coding exercises for you and you can basically \"turn off your brain.\" In other words, you won't learn to code.\n",
        "\n",
        "\n",
        "For these reasons, we ask that you turn off Gemini autocomplete while you are going through these tutorials. Here's how to do it:\n",
        "* In your Google Colab document, click \"**Tools**\" from the upper menu bar and select \"**Settings**\"\n",
        "* In the Settings window, select \"**Editor**\"\n",
        "* Scroll down and you should see a list of chceck boxes starting with \"**Show context-powered code completions**\"\n",
        "* Make sure all of these check boxes are **unchecked**\n",
        "* While you are there, I recommend setting the \"**Indentation Width in Spaces**\" to 4 (the default is 2). This will be important when we get to loops and if statements later in these tutorials.\n",
        "* When you are done, don't forget to click **Save**\n",
        "\n",
        "Once you save the settings, they will be used as the defaults when you open other Colab documents. If you get stuck and you want to use the AI assistant, you can always turn it back on by ckecking the appropriate boxes.\n"
      ],
      "metadata": {
        "id": "KDNNLrwltlNL"
      }
    },
    {
      "cell_type": "markdown",
      "source": [
        "### ✅ **Skill Check**  \n",
        "\n",
        "\n",
        "Please sign the following statement by typing your name into the text box:\n",
        "\n",
        "> I understand the importance of \"desirable struggle\" in learning and I agree to use AI sparingly and only when I feel I have exhausted other options.\n",
        "* I have disabled the Google Colab autocomplete functions by following the instructions above.\n",
        "* I agree to work through these tutorials without relying on AI tools.\n",
        "* If I get stuck, I agree to reach out to the instructor or other students if possible to discuss ways of approaching the problem.\n",
        "* If I do use AI to help solve a problem, I agree to disclose its use, i.e. \"I asked chatGPT for ideas about how to approach this problem\" or \"I turned on Gemini autocomplete for this problem\", etc.\n",
        "\n",
        "\n",
        "\n"
      ],
      "metadata": {
        "id": "1Z4o6gFoXcrU"
      }
    },
    {
      "cell_type": "markdown",
      "source": [
        " Signature (type your name):  \n",
        "\n",
        " 🟩"
      ],
      "metadata": {
        "id": "_sd1ggUsLE64"
      }
    },
    {
      "cell_type": "markdown",
      "source": [
        "Brooke J\n"
      ],
      "metadata": {
        "id": "E7pCqZU4znfh"
      }
    },
    {
      "cell_type": "markdown",
      "source": [
        "## 0.7 Comments\n",
        "It is often a good idea to comment your code. A comment is a message to yourself (or others reading your code) to describe what your code is doing. Comments are created using the hash tag #. Anything placed after the hash tag on a given line will be interpreted as a comment (and not Python code). Comments may be placed on a line of their own or after Python code as shown in the following example:"
      ],
      "metadata": {
        "id": "VsZ0XK8nvH5-"
      }
    },
    {
      "cell_type": "code",
      "source": [
        "# this is my first Python program\n",
        "print('hi')     # this line prints the message \"hi\""
      ],
      "metadata": {
        "id": "qEwzSoQuv6B-",
        "colab": {
          "base_uri": "https://localhost:8080/"
        },
        "outputId": "3d4697a2-1f52-41f6-a06e-8cd90ebd6d16"
      },
      "execution_count": 5,
      "outputs": [
        {
          "output_type": "stream",
          "name": "stdout",
          "text": [
            "hi\n"
          ]
        }
      ]
    },
    {
      "cell_type": "markdown",
      "source": [
        "Play the above code block to execute it using one of the methods described above. You should see the message \"hi\" appear under the code block."
      ],
      "metadata": {
        "id": "d2Z2-0zE5tnb"
      }
    },
    {
      "cell_type": "markdown",
      "source": [
        "## **Key Points**\n",
        "\n",
        "* This Python tutorial is written in Jupyter Notebooks and hosted on Google Colab.\n",
        "* The tutorial is interactive, which allows you to try out your coding skills and run your code directly in the tutorial\n",
        "* The table of contents icon found in the left-hand menu lets you navigate the sections of each tutorial\n",
        "* Each tutorial has a set of Skill Checks (indicated by green check boxes ✅) that you will need to complete to receive credit for completing each chapter\n",
        "* We ran our first Python program in this tutorials, a \"hello world\" print statement.\n",
        "* Print statements allow your code to display text, variable values, etc. to the user\n",
        "* We discussed the role of AI in learning to code and asked you to agree to turn off the AI autocomplete functions in Google Colab"
      ],
      "metadata": {
        "id": "-K7PXRXz6GTb"
      }
    },
    {
      "cell_type": "markdown",
      "source": [
        "This tutorial is a modified adaptation of  \"[Python for Physicists](https://lucydot.github.io/python_novice/)\"\n",
        "© [Software Carpentry](http://software-carpentry.org/)\n"
      ],
      "metadata": {
        "id": "5pnXdFvAhvCZ"
      }
    }
  ]
}