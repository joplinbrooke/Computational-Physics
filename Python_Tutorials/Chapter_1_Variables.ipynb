{
  "nbformat": 4,
  "nbformat_minor": 0,
  "metadata": {
    "colab": {
      "provenance": [],
      "toc_visible": true,
      "include_colab_link": true
    },
    "kernelspec": {
      "name": "python3",
      "display_name": "Python 3"
    }
  },
  "cells": [
    {
      "cell_type": "markdown",
      "metadata": {
        "id": "view-in-github",
        "colab_type": "text"
      },
      "source": [
        "<a href=\"https://colab.research.google.com/github/joplinbrooke/Computational-Physics/blob/main/Python_Tutorials/Chapter_1_Variables.ipynb\" target=\"_parent\"><img src=\"https://colab.research.google.com/assets/colab-badge.svg\" alt=\"Open In Colab\"/></a>"
      ]
    },
    {
      "cell_type": "markdown",
      "source": [
        "# Chapter 1 - Variables"
      ],
      "metadata": {
        "id": "Zs1hse2JWxg2"
      }
    },
    {
      "cell_type": "markdown",
      "source": [
        "Objectives:\n",
        "*  Learn about how to create and use Python variables for calculations\n",
        "*  Become comfortable using Jupyter Notebooks and Google Colab\n",
        "* Learn how to use to `input()` statement to prompt the user for information\n"
      ],
      "metadata": {
        "id": "mYx7rd9VHabD"
      }
    },
    {
      "cell_type": "markdown",
      "source": [
        "##**1.0  Use variables to store values**\n",
        "* Variables are names for values\n",
        "* In Python, the `=` symbol assigns a value on the right to the name on the left\n",
        "* The variable is created when a value is assigned to it\n",
        "* In the following example, we create two variables to store the name and age of a person. Execute the code by mousing over the code cell and pressing the play button. Once you run the code cell, a green checkmark should appear next to the cell. This indicates the cell has been executed and the variables are stored in the computer memory.\n"
      ],
      "metadata": {
        "id": "QIGhHIg1lqT5"
      }
    },
    {
      "cell_type": "code",
      "source": [
        "name = \"Marie\"\n",
        "age = 20"
      ],
      "metadata": {
        "id": "n-cj6wTynLli"
      },
      "execution_count": 1,
      "outputs": []
    },
    {
      "cell_type": "markdown",
      "source": [
        "* Variable names can **only** contain letters, digits and the underscore `_`.\n",
        "* They cannot contain spaces\n",
        "* Variable names cannot start with a digit.\n",
        "* Variable names are case sensitive. The variable `velocity` is not the same as the variable `Velocity`.\n"
      ],
      "metadata": {
        "id": "6uy-uMchnRVL"
      }
    },
    {
      "cell_type": "markdown",
      "source": [
        "##**1.1 Use `print()` to display variables**\n",
        "* Python has a built-in function called `print()` that prints things as text.\n",
        "* For example, run the following code cell to display the value of the `name` variable. You should see \"Marie\" displayed under the code cell.\n",
        "\n",
        "\n",
        "\n"
      ],
      "metadata": {
        "id": "qlF7QiepoM1D"
      }
    },
    {
      "cell_type": "code",
      "source": [
        "print(name)"
      ],
      "metadata": {
        "id": "uyD9fk1QODEv",
        "colab": {
          "base_uri": "https://localhost:8080/"
        },
        "outputId": "92863088-9d1b-497e-b057-31f6ca9ccb17"
      },
      "execution_count": 2,
      "outputs": [
        {
          "output_type": "stream",
          "name": "stdout",
          "text": [
            "Marie\n"
          ]
        }
      ]
    },
    {
      "cell_type": "markdown",
      "source": [
        "If you see an error message, it might be because the initial code cell defining the `age` and `name` variables was never run. If so, go back, run it and then re-run the print statement.\n",
        "\n",
        "You can also include descriptive text and multiple variables in the print statement. For example, run the following code cell:"
      ],
      "metadata": {
        "id": "M6RuALh8UN_T"
      }
    },
    {
      "cell_type": "code",
      "source": [
        "print(name, 'is', age, 'years old')"
      ],
      "metadata": {
        "colab": {
          "base_uri": "https://localhost:8080/"
        },
        "id": "ZYDPWkd4s9_b",
        "outputId": "85286d8f-caeb-4fa4-c08f-e9d10aabd613"
      },
      "execution_count": 3,
      "outputs": [
        {
          "output_type": "stream",
          "name": "stdout",
          "text": [
            "Marie is 20 years old\n"
          ]
        }
      ]
    },
    {
      "cell_type": "markdown",
      "source": [
        "You should see the output displayed below the code cell. Notice the following:\n",
        "* descriptive text is enclosed in quotes (either single or double)\n",
        "* the text and variables are separated by commas\n",
        "* `print()` automatically puts a single space between the items to separate them and wraps to a new line at the end.\n",
        "\n",
        "BTW, the the print statement is the first example of something called a **function**. The function takes **arguments**, which are the variable names and the strings enclosed in quotes. We'll talk more about functions later.\n"
      ],
      "metadata": {
        "id": "lYqyH-gEN-t4"
      }
    },
    {
      "cell_type": "markdown",
      "source": [
        "##**1.2 Variables persist between cells**\n",
        "The previous examples show that variables defined in one cell can be used in cells farther down the page. In the above example, the variables `age` and `name` were defined in one cell and used in a print statement in a different cell.\n",
        "\n",
        "One consequence of this \"memory\" is that after the notebook is run once, all the variables will be remembered the next time the code is run. While this normally isn't an issue for well-writted code, it can cause unexpected results if variables aren't properly defined the first time they are used. If you suspect that this effect may be causing problems, you have an option:\n",
        "* Click on the down triangle next to \"Run all\" and select \"Restart session and run all\". This will clear all variables before running the code cells."
      ],
      "metadata": {
        "id": "rXyWdUJ7cq_e"
      }
    },
    {
      "cell_type": "markdown",
      "source": [
        "##**1.3 Variables must be created before they are used**\n",
        "\n",
        "* If a variable doesn't exist yet, or if the name has been misspelled, Python reports an error.\n",
        "\n",
        "Run the following code block to see what happens when you try to print out a variable that hasn't been defined"
      ],
      "metadata": {
        "id": "15StlTGLuU_J"
      }
    },
    {
      "cell_type": "code",
      "source": [
        "print(name)"
      ],
      "metadata": {
        "id": "zM0MKD-uuxMH",
        "colab": {
          "base_uri": "https://localhost:8080/"
        },
        "outputId": "8fb0f96b-5abd-4b8b-fb55-215b171e90c8"
      },
      "execution_count": 4,
      "outputs": [
        {
          "output_type": "stream",
          "name": "stdout",
          "text": [
            "Marie\n"
          ]
        }
      ]
    },
    {
      "cell_type": "markdown",
      "source": [
        "### ✅ Skill Check 1\n",
        "\n",
        "To correct this error, double-click on the code cell and replace \"first_name\" with \"name\". Then run the cell. The error message should disappear and you should see \"Maria\" displayed. 🟩"
      ],
      "metadata": {
        "id": "-rXgSse2WCAb"
      }
    },
    {
      "cell_type": "markdown",
      "source": [
        "## **1.4 Order of execution**\n",
        "Be aware that if you run code cells out of order in a Jupyter document, strange things can happen. I recommend the following:\n",
        "* **Always execute code cells in order as you go down the document**. Running code cells out of order can lead to unexpected results, confusion and frustration!\n",
        "* Sometimes it is better to just click **Run all** on the menu bar at the top of this page to run all code cells in order, rather than running them individually. This will ensure that you don't miss a cell.\n",
        "* If you want to be really safe, click on the down triangle next to \"Run all\" and select \"**Restart session and run all**\". This will clear all variables before running the code cells.\n",
        "\n",
        "\n"
      ],
      "metadata": {
        "id": "5ZyoPQmovLu_"
      }
    },
    {
      "cell_type": "markdown",
      "source": [
        "## **1.5 Variables can be used in calculations**\n",
        "Consider the following code that defines the width and height of a rectangle, calculates the area and then displays the result. Run the following code cell:"
      ],
      "metadata": {
        "id": "TO43l_bJkyKQ"
      }
    },
    {
      "cell_type": "code",
      "source": [
        "width = 10              # in meters\n",
        "height = 5              # in meters\n",
        "area = width * height   # calculate area of rectangle in meters^2\n",
        "print(\"area =\",area)    # display result"
      ],
      "metadata": {
        "id": "yGO5ypQ4Yx0r",
        "colab": {
          "base_uri": "https://localhost:8080/"
        },
        "outputId": "addc6f2a-2121-4982-f1ed-bdcde8ba759a"
      },
      "execution_count": 5,
      "outputs": [
        {
          "output_type": "stream",
          "name": "stdout",
          "text": [
            "area = 50\n"
          ]
        }
      ]
    },
    {
      "cell_type": "markdown",
      "source": [
        "* You should see the result appear below the code cell.\n",
        "* Note, we added comments to describe each line of code. As mentioned before, comments are to help make the code easier to read and are highly encouraged.\n",
        "* When commenting your own code, we recommend lining the hash tags # up whenever possible to keep your code need and easy to read."
      ],
      "metadata": {
        "id": "VEIYvZlSZjF-"
      }
    },
    {
      "cell_type": "markdown",
      "source": [
        "Suppose you received revised information that the triangle is actually 5 meters wider than you thought. You could update the width variable as follows (run the following code cell):"
      ],
      "metadata": {
        "id": "bvdzE-0Wbeq-"
      }
    },
    {
      "cell_type": "code",
      "source": [
        "width = width + 5"
      ],
      "metadata": {
        "id": "_qUj3s12b3fX"
      },
      "execution_count": 6,
      "outputs": []
    },
    {
      "cell_type": "markdown",
      "source": [
        "This can be a confusing statement to non-programmers. If interpreted as a math equation, one could \"cancel\" the `width` variable from both sides of the equation and be left with `0 = 5` 🙁. But, remember:\n",
        "* In Python and other programming languages the \"`=`\" symbol is an **assignment operator** and and not a mathematical equals sign.\n",
        "* In this example, it means take the previously defined value of the `width` variable and add 5 to it. Then store that new value back in the `width` variable.\n",
        "\n",
        "If you want to know the area of the revised rectangle, you will need to recalculate the area (run the following):"
      ],
      "metadata": {
        "id": "BQgYqE5wb-yD"
      }
    },
    {
      "cell_type": "code",
      "source": [
        "area = width * height           # calculate area of revised rectangle in meters^2\n",
        "print(\"revised area =\",area)    # display result"
      ],
      "metadata": {
        "id": "NQI2g2EVd6Ie",
        "colab": {
          "base_uri": "https://localhost:8080/"
        },
        "outputId": "daf99bfa-1359-4160-8722-41c17e545b6f"
      },
      "execution_count": 7,
      "outputs": [
        {
          "output_type": "stream",
          "name": "stdout",
          "text": [
            "revised area = 75\n"
          ]
        }
      ]
    },
    {
      "cell_type": "markdown",
      "source": [
        "Remember that variables are updated in the order that they are executed (i.e. down the page). Thus, if we change the value of a variable, we would need to redo any calculations that depend on it."
      ],
      "metadata": {
        "id": "jEWQfW_DeLEz"
      }
    },
    {
      "cell_type": "markdown",
      "source": [
        "##**1.6 Variable names should be descriptive**\n",
        "Variable names should be descriptive, i.e. `mass`, `velocity`, etc. or the should correspond to typical mathematical variables, i.e. `m`, `v`, etc. Variable names cannot contain spaces. If you want a complex variable name, you can use the underscore `_` in place of a space. Another option is \"Camel\" notation, where capitalization can be used. See the following examples:"
      ],
      "metadata": {
        "id": "jtHDBXpogQhD"
      }
    },
    {
      "cell_type": "code",
      "source": [
        "seconds_per_minute = 60   # use underscore\n",
        "secondsPerMinute = 60     # \"Camel\" notation"
      ],
      "metadata": {
        "id": "83NQuHiQgQhF"
      },
      "execution_count": 8,
      "outputs": []
    },
    {
      "cell_type": "markdown",
      "source": [
        "Sometimes it is useful to define fundamental constants in MKS units when doing physics calculations. In Python, scientific notation is written as `1.23e4` for $1.23\\times 10^4$. The `e` proceeds the power of ten. Here are some standard fundamental constants. Run this code cell to create these variables.\n",
        "\n",
        "### 🔆 List of fundamental physical constants"
      ],
      "metadata": {
        "id": "QG5J8rNfgQhG"
      }
    },
    {
      "cell_type": "code",
      "source": [
        "c = 299792458            # definition of the speed of light in m/s\n",
        "h = 6.626e-34            # Planck's constant (J s)\n",
        "hbar = 1.0546e-34        # \"h bar\" = h / 2*pi  (J s)\n",
        "G = 6.6743e-11           # Gravitational constant (m^3/kg/s^2\n",
        "e = 1.602177e-19         # fundamental charge (C)\n",
        "me = 9.10938e-31         # mass of electron (kg)\n",
        "epsilon0 = 8.854188e-12  # vacuum permittivity (F/m)"
      ],
      "metadata": {
        "id": "xBcRDdA2gQhG"
      },
      "execution_count": 9,
      "outputs": []
    },
    {
      "cell_type": "markdown",
      "source": [
        "After running the above code cell, you can now use these constants in calculations.\n",
        "\n",
        "### 🔆 Example:  Rest energy\n",
        "\n",
        "For example, let's use Einstein's famous $E=m c^2$ to calculate the energy (in Joules) contained in my cat ($m=5$  kg). Of course this energy can ony be released if my cat meets an anti-cat made purely of antimatter, but..."
      ],
      "metadata": {
        "id": "--UTCrVJhAHX"
      }
    },
    {
      "cell_type": "code",
      "source": [
        "m = 5                # mass of my cat in kg\n",
        "E = m * c**2         # Einstein's formula. We use the value of c defined above\n",
        "print(m,\"kg is equivalent to\",E,\"Joules\")  # display the result"
      ],
      "metadata": {
        "id": "Y_E9QQExiHsJ",
        "colab": {
          "base_uri": "https://localhost:8080/"
        },
        "outputId": "a3e34f76-cd0b-4c7b-8231-b34925cc31dc"
      },
      "execution_count": 10,
      "outputs": [
        {
          "output_type": "stream",
          "name": "stdout",
          "text": [
            "5 kg is equivalent to 449377589368408820 Joules\n"
          ]
        }
      ]
    },
    {
      "cell_type": "markdown",
      "source": [
        "### ✅ Skill Check 2\n",
        "\n",
        "A light year (ly) is defined as the distance light can travel in one year:  $ly= c\\cdot year$, where $c=$ the speed of light and $year=$ length of a year. Follow these steps to calculate the length of a light year in meters:\n",
        "* Create a code cell below this text cell (Hover your mouse near the end of this text cell. Click on the `+Code` button that appears)\n",
        "* Define variables to store (1) the number of seconds per minute, (2) number of minutes per hour, (3) hours per day, (4) ave days per year ( = 365.24)\n",
        "* Calculate the number of seconds per year and store it in a variable (maybe call it `year'):   $year = \\left(\\frac{seconds}{minute} \\right)\\left(\\frac{minutes}{hour} \\right)\\left(\\frac{hours}{day} \\right)\\left(\\frac{days}{year} \\right)$\n",
        "* Use the variable `c` defined above for the speed of light and the variable containing the length of a year in seconds to calculate a light year.\n",
        " $ly= c\\cdot year$\n",
        "* Use a print statement to display your answer including a short label, for example:  \"light year in meters = \".\n",
        "* Run your code. If you get errors, don't panic!! This is normal. You'll need to debug your code and see if you can find and correct the errors."
      ],
      "metadata": {
        "id": "_BCsHrHIhkD7"
      }
    },
    {
      "cell_type": "code",
      "source": [
        "seconds_per_minute = 60\n",
        "minutes_per_hour = 60\n",
        "hours_per_day = 24\n",
        "days_per_year = 365.24\n",
        "\n",
        "year = seconds_per_minute * minutes_per_hour * hours_per_day * days_per_year # seconds in one year\n",
        "\n",
        "ly = c*year #light-year in meters\n",
        "\n",
        "print('seconds per year', year)\n",
        "print('light year in meters', ly)"
      ],
      "metadata": {
        "colab": {
          "base_uri": "https://localhost:8080/"
        },
        "id": "cOGdBA4k3A7s",
        "outputId": "043df4f7-4919-4cd1-82a6-61c5db2121d9"
      },
      "execution_count": 16,
      "outputs": [
        {
          "output_type": "stream",
          "name": "stdout",
          "text": [
            "seconds per year 31556736.0\n",
            "light year in meters 9460471451897088.0\n"
          ]
        }
      ]
    },
    {
      "cell_type": "markdown",
      "source": [
        "##**1.7 Prompting the user for input**\n",
        "\n",
        "Sometimes, it is convenient to have the program prompt the user for input, rather than defining variables by hand. Python provides the `input()` command to do this. Here's how the `input()` function works:\n",
        "* `my_variable` = input(\"message to user\")\n",
        "* This line of code will prompt the user to type in a value and save it in the variable `my_variable`\n",
        "* replace `my_variable` with a variable name of your choice\n",
        "* replace \"`message to user`\" with your own message\n",
        "\n",
        "The following prompts the user to enter their favorite number and then displays a message back to the user:"
      ],
      "metadata": {
        "id": "o67SM9qSylM8"
      }
    },
    {
      "cell_type": "code",
      "source": [
        "number = input(\"Enter your favorite number: \")\n",
        "print(number, \"is my favorite number too!\")"
      ],
      "metadata": {
        "id": "iggZc_0aMmwY",
        "colab": {
          "base_uri": "https://localhost:8080/"
        },
        "outputId": "b6e55e98-900a-4834-bbb4-0c79ae020f8a"
      },
      "execution_count": 17,
      "outputs": [
        {
          "output_type": "stream",
          "name": "stdout",
          "text": [
            "Enter your favorite number: 22\n",
            "22 is my favorite number too!\n"
          ]
        }
      ]
    },
    {
      "cell_type": "markdown",
      "source": [
        "* Run the above code cell\n",
        "* An input box should appear under the code cell\n",
        "* Type your favorite number into the input box and press Enter or Return\n",
        "* The code should display your number back ot you."
      ],
      "metadata": {
        "id": "1y4HQ7ayM1bm"
      }
    },
    {
      "cell_type": "markdown",
      "source": [
        "### ✅ Skill Check 3\n",
        "\n",
        "Write some code to prompt the user to enter the name of their favorite physicist. Print a message to the screen that says \"Your favotite physicist is ___\", where ___is the name the user entered."
      ],
      "metadata": {
        "id": "1Ksyd9USWrIm"
      }
    },
    {
      "cell_type": "code",
      "source": [
        "physicist = input('Enter your favorite physicist:')\n",
        "print(physicist, \"is my favorite physicist too!\")"
      ],
      "metadata": {
        "colab": {
          "base_uri": "https://localhost:8080/"
        },
        "id": "zye2sTGj9Igb",
        "outputId": "4f79ba03-886d-46a2-9fad-6f7db533b7ef"
      },
      "execution_count": 18,
      "outputs": [
        {
          "output_type": "stream",
          "name": "stdout",
          "text": [
            "Enter your favorite physicist:newton\n",
            "newton is my favorite physicist too!\n"
          ]
        }
      ]
    },
    {
      "cell_type": "markdown",
      "source": [
        "## **1.8 Possible Errors**\n",
        "\n",
        "Error messages are a normal part of coding. Even though they can be quite vexing at times, think of them as the computer's way of helping you succeed!  Overcoming anxiety over error messages is a big step on the path to coding enlightenment.\n",
        "\n",
        "Here are some common errors that you might encounter and ways to fix them:\n",
        "\n"
      ],
      "metadata": {
        "id": "bWljZa2lkGRA"
      }
    },
    {
      "cell_type": "markdown",
      "source": [
        "### Variable is not defined\n",
        "\n",
        "* We talked about this one earlier.\n",
        "* This error arises if you try to use a variable in print statement or calculation before defining it"
      ],
      "metadata": {
        "id": "wx1mvCsDpc6o"
      }
    },
    {
      "cell_type": "code",
      "source": [
        "print(hot_dog)"
      ],
      "metadata": {
        "id": "fUc1Kryal2qU",
        "colab": {
          "base_uri": "https://localhost:8080/",
          "height": 139
        },
        "outputId": "ed6b3ca9-8fc1-40fd-e07c-e0dc052d5e03"
      },
      "execution_count": 19,
      "outputs": [
        {
          "output_type": "error",
          "ename": "NameError",
          "evalue": "name 'hot_dog' is not defined",
          "traceback": [
            "\u001b[0;31m---------------------------------------------------------------------------\u001b[0m",
            "\u001b[0;31mNameError\u001b[0m                                 Traceback (most recent call last)",
            "\u001b[0;32m/tmp/ipython-input-283046707.py\u001b[0m in \u001b[0;36m<cell line: 0>\u001b[0;34m()\u001b[0m\n\u001b[0;32m----> 1\u001b[0;31m \u001b[0mprint\u001b[0m\u001b[0;34m(\u001b[0m\u001b[0mhot_dog\u001b[0m\u001b[0;34m)\u001b[0m\u001b[0;34m\u001b[0m\u001b[0;34m\u001b[0m\u001b[0m\n\u001b[0m",
            "\u001b[0;31mNameError\u001b[0m: name 'hot_dog' is not defined"
          ]
        }
      ]
    },
    {
      "cell_type": "markdown",
      "source": [
        "* Because we haven't defined a variable named \"hot_dog\", we get this error. Make sure to define variables before using them.\n",
        "* When using Jupyter notebooks, you might have forgotten to run a cell with the variable definition. To check if this is the case, you can simply click \"**Run all**\" from the top menu bar to ensure all cells are executed\n",
        "* Often, this error arises if you have a typo in the variable name. For example, if your variable was spelled \"Hot_Dog\" instead of \"hot_dog\" you would get this error"
      ],
      "metadata": {
        "id": "6BGy3zkgl9Mn"
      }
    },
    {
      "cell_type": "markdown",
      "source": [
        "### Missing quote\n",
        "\n",
        "Google Colab has auto-completion and often tries to help you remember to include closing quotes and parentheses. But sometimes errors still arise.\n",
        "\n",
        "For example, if you forget to include a closing quote in tha print statement, you can get the cryptic message \"unterminated string literal\". Run the following statement as is:"
      ],
      "metadata": {
        "id": "ZphSNuimnPWw"
      }
    },
    {
      "cell_type": "code",
      "source": [
        "print(\"hello\")"
      ],
      "metadata": {
        "id": "ZudrMWHNnGby",
        "colab": {
          "base_uri": "https://localhost:8080/"
        },
        "outputId": "5c06d9cf-dd31-40ca-9858-5c0c80dd592f"
      },
      "execution_count": 20,
      "outputs": [
        {
          "output_type": "stream",
          "name": "stdout",
          "text": [
            "hello\n"
          ]
        }
      ]
    },
    {
      "cell_type": "markdown",
      "source": [
        "* To fix this message, simply include the closign quote after \"hello\""
      ],
      "metadata": {
        "id": "XGqwWT3Qn8HS"
      }
    },
    {
      "cell_type": "markdown",
      "source": [
        "### Missing parenthesis\n",
        "\n",
        "* If you have unequal left and right parentheses, you can get the message (run the code to see the error):  "
      ],
      "metadata": {
        "id": "7l2ZGp9FoLmg"
      }
    },
    {
      "cell_type": "code",
      "source": [
        "print(\"hello\")"
      ],
      "metadata": {
        "id": "5l5-toyXofYv",
        "colab": {
          "base_uri": "https://localhost:8080/"
        },
        "outputId": "9cefa319-42e3-4e3c-c7fc-86a5f06e7a47"
      },
      "execution_count": 21,
      "outputs": [
        {
          "output_type": "stream",
          "name": "stdout",
          "text": [
            "hello\n"
          ]
        }
      ]
    },
    {
      "cell_type": "markdown",
      "source": [
        "* To fix this message, simply include the missing parenthesis"
      ],
      "metadata": {
        "id": "7soGvBuMpJOx"
      }
    },
    {
      "cell_type": "markdown",
      "source": [
        "##**Key Points**\n",
        "* Use variables to store values.\n",
        "* Use `print()` to display variable values.\n",
        "* Variables persist between cells.\n",
        "* Variables must be created before they are used.\n",
        "* Always run cells in order from top to bottom of the notebook\n",
        "* Python is case-sensitive.\n",
        "* Use meaningful variable names.\n",
        "* Use the `input()` statement if you want to prompt the user for input\n",
        "* Learn to overcome anxiety caused by error messages and accept them as helpful tools\n"
      ],
      "metadata": {
        "id": "vcYoYAqI0lin"
      }
    },
    {
      "cell_type": "markdown",
      "source": [
        "This tutorial is a modified adaptation of \"[Python for Physicists](https://lucydot.github.io/python_novice/)\"\n",
        "© [Software Carpentry](http://software-carpentry.org/)\n"
      ],
      "metadata": {
        "id": "5pnXdFvAhvCZ"
      }
    }
  ]
}