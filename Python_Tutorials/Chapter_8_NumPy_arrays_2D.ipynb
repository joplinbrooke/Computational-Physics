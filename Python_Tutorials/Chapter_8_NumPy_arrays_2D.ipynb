{
  "nbformat": 4,
  "nbformat_minor": 0,
  "metadata": {
    "colab": {
      "provenance": [],
      "toc_visible": true,
      "include_colab_link": true
    },
    "kernelspec": {
      "name": "python3",
      "display_name": "Python 3"
    },
    "language_info": {
      "name": "python"
    }
  },
  "cells": [
    {
      "cell_type": "markdown",
      "metadata": {
        "id": "view-in-github",
        "colab_type": "text"
      },
      "source": [
        "<a href=\"https://colab.research.google.com/github/joplinbrooke/Computational-Physics/blob/main/Python_Tutorials/Chapter_8_NumPy_arrays_2D.ipynb\" target=\"_parent\"><img src=\"https://colab.research.google.com/assets/colab-badge.svg\" alt=\"Open In Colab\"/></a>"
      ]
    },
    {
      "cell_type": "markdown",
      "source": [
        "#Chapter 8 - Multidimensional NumPy Arrays\n",
        "\n",
        "Goals\n",
        "* Create, use and modify multidimensional NumPy arrays (2D, 3D, etc.)\n",
        "* Apply functions to multidimensional arrays\n",
        "* Read in a comma-separated-value (csv) data file\n",
        "\n",
        "\n",
        "\n",
        "\n"
      ],
      "metadata": {
        "id": "jLfkkSpUxQqK"
      }
    },
    {
      "cell_type": "markdown",
      "source": [
        "## **8.0 Multidimensional Arrays**\n",
        "\n",
        "This chapter describes how to create, apply and extract data from multi-dimensional arrays in 2D, 3D and higher dimensions.\n"
      ],
      "metadata": {
        "id": "rzV74eSprw7H"
      }
    },
    {
      "cell_type": "markdown",
      "source": [
        "## **8.1 Creating multidimensional arrays**\n",
        "\n",
        "\n"
      ],
      "metadata": {
        "id": "WQEopYBpcjn_"
      }
    },
    {
      "cell_type": "markdown",
      "source": [
        "\n",
        "\n",
        "### **8.1.1 Creating 2D arrays**\n",
        "\n",
        "* 2D Arrays are specified by an `(n,m)` tuple\n",
        "* The first parameter `n` specifies the number rows\n",
        "* The second parameter `m` specifies the number of columns.\n",
        "\n",
        "\n",
        "\n"
      ],
      "metadata": {
        "id": "h7tbZmzWajuY"
      }
    },
    {
      "cell_type": "markdown",
      "source": [
        "### 🔆 Example:  Creating 2D array filled with zeros\n",
        "\n",
        "* To fill a $2\\times 3$ array (2 rows and 3 columns) with zeros, we can use the `np.zeros((n,m))` command.\n",
        "* The \"double parentheses\" are necessary, since the inner parentheses create a \"tuple\" which the `np.zeros()` function expects."
      ],
      "metadata": {
        "id": "TVS9pmpQXum0"
      }
    },
    {
      "cell_type": "code",
      "source": [
        "import numpy as np\n",
        "\n",
        "A = np.zeros((2,3))\n",
        "print(A)"
      ],
      "metadata": {
        "id": "8aaTFInWa8DL"
      },
      "execution_count": null,
      "outputs": []
    },
    {
      "cell_type": "markdown",
      "source": [
        "### 🔆 Example: Creating an array of random integers\n",
        "\n",
        "In the following example, we fill a 2x5 array with random integers between 1 and 9 inclusive.\n",
        "* We specify the size of the array to have 3 rows and 5 columns using the `size=(3,5)` parameter.\n",
        "* We use the `endpoint=True` parameter to tell Python to includ the upper limit (9 in this example)."
      ],
      "metadata": {
        "id": "uc8ILWp8tbQ6"
      }
    },
    {
      "cell_type": "code",
      "source": [
        "rng = np.random.default_rng()        # create random number Generator\n",
        "\n",
        "A = rng.integers(1, 9, size=(3,5),endpoint=True)\n",
        "print(A)"
      ],
      "metadata": {
        "id": "zR-AGcHtvObX"
      },
      "execution_count": null,
      "outputs": []
    },
    {
      "cell_type": "markdown",
      "source": [
        "### ✅ Skill Check 1\n",
        "\n",
        "Create a 2D array with 6 columns and 3 rows. Each element should be a random  integer whose value satisfies $1 \\leq x \\leq 4$. Print the array."
      ],
      "metadata": {
        "id": "tR6cijdPNuwM"
      }
    },
    {
      "cell_type": "code",
      "source": [
        "# Your code here\n"
      ],
      "metadata": {
        "id": "AtkbyeHFfz5J"
      },
      "execution_count": null,
      "outputs": []
    },
    {
      "cell_type": "markdown",
      "source": [
        "### **8.1.2 Creating 3D arrays**\n",
        "\n",
        "* 3D arrays (i.e. tensors) are specified by a `(p,n,m)` tuple\n",
        "* `p` = first parameter = the number of layers p of the array.\n",
        "* `n` = 2nd parameter = the number rows n\n",
        "* `m` = 3rd parameter = the number of columns m\n",
        "\n",
        "* For example, to fill an  4x2×3  array (2 rows, 3 columns and 4 layers deep) with zeros, we can use the following:"
      ],
      "metadata": {
        "id": "HsGOKMyGqHPb"
      }
    },
    {
      "cell_type": "code",
      "source": [
        "A = np.zeros((4,2,3))\n",
        "print(A)"
      ],
      "metadata": {
        "id": "SOptI2dvqbmt"
      },
      "execution_count": null,
      "outputs": []
    },
    {
      "cell_type": "markdown",
      "source": [
        "## **8.2 .shape, .size and .ndim attributes**\n",
        "\n",
        "NumPy provides three attributes that characterize the shape and size of NumPy arrays. Remember that attributes do no use parentheses, while methods do.\n",
        "* `.shape' returns a tuple containing the dimensions along each axis of the array.\n",
        "* The number of elements along a given axis) can be extracted as follows:\n",
        "* The first element is the number of rows:  `.shape[0]`\n",
        "* The second element is the number of columns:  `.shape[1]`\n",
        "* Higher-dimensional arrays (3D, 4D, etc.) will have information about the number of layers in the `[2]`, `[3]`,  etc. positions.\n"
      ],
      "metadata": {
        "id": "CSQnmZa61OSZ"
      }
    },
    {
      "cell_type": "code",
      "source": [
        "\n",
        "A = rng.integers(1, 9, size=(3,5),endpoint=True)\n",
        "print(\"A = \")\n",
        "print(A)\n",
        "\n",
        "print()\n",
        "print(\"shape of A is \",A.shape)\n",
        "\n",
        "n_rows = A.shape[0]              # extract the number of rows\n",
        "n_cols = A.shape[1]              # extract the number of columns\n",
        "\n",
        "print(\"number of rows in A    =\",n_rows)\n",
        "print(\"number of columns in A =\",n_cols)"
      ],
      "metadata": {
        "id": "fqz_5UEc1UmP"
      },
      "execution_count": null,
      "outputs": []
    },
    {
      "cell_type": "markdown",
      "source": [
        "* `.size` returns the total number of elements in A, which equals the (number of rows) $\\times$ (number of columns) for a 2D array\n",
        "* `.ndim` returns the number of dimensions, which is 2 for a 2D array, 3 for a 3D array, etc."
      ],
      "metadata": {
        "id": "07iMqELV91Oh"
      }
    },
    {
      "cell_type": "code",
      "source": [
        "print(\"size of A (total # elements) =\",A.size)\n",
        "print(\"number of dimensions of A    =\",A.ndim)"
      ],
      "metadata": {
        "id": "Ts5vEW_8-Y54"
      },
      "execution_count": null,
      "outputs": []
    },
    {
      "cell_type": "markdown",
      "source": [
        "### 🔆 Example:  4D Array\n",
        "\n",
        "Here's an example of creating a 4D array:\n",
        "* number of columns = 5\n",
        "* number of rows = 4\n",
        "* number of layers = 3\n",
        "* number of blocks of layers = 2"
      ],
      "metadata": {
        "id": "5XqPNA4dda1A"
      }
    },
    {
      "cell_type": "code",
      "source": [
        "z = np.zeros((2,3,4,5))\n",
        "\n",
        "print(\"shape of z (length along each axis) =\",z.shape)\n",
        "print(\"size of z (total # elements) =\",z.size)\n",
        "print(\"number of dimensions of A    =\",z.ndim)\n",
        "print()\n",
        "print(\"z = \")\n",
        "print(z)"
      ],
      "metadata": {
        "id": "2XRTm171dkVs"
      },
      "execution_count": null,
      "outputs": []
    },
    {
      "cell_type": "markdown",
      "source": [
        "### **8.4 Accessing elements in multi-dimensional arrays**\n",
        "\n",
        "The following examples show how to access and slice a 2D array.\n"
      ],
      "metadata": {
        "id": "appsieJqv9iB"
      }
    },
    {
      "cell_type": "code",
      "source": [
        "rng = np.random.default_rng()    # create random number Generator\n",
        "A = rng.integers(1, 9, size=(3,5),endpoint=True)\n",
        "\n",
        "print(\"A = \")\n",
        "print(A)                         # prints array A\n",
        "print()                          # prints a blank line\n",
        "\n",
        "print(\"A[0,2]  =  \",A[0,2])      # top row, 3rd column\n",
        "print(\"A[0,:2] =  \",A[0,1:3])    # top row, columns 2 and 3\n",
        "print(\"A[0,:]  =  \",A[0,:])      # top row\n",
        "print(\"A[0,:]  =  \",A[:,1])      # second column\n",
        "print()\n",
        "print(\"A[0:2,0:2] = \")           # 2x2 matrix from top-left corner of A\n",
        "print(A[0:2,0:2])"
      ],
      "metadata": {
        "id": "3HDHk5yBw4Y-"
      },
      "execution_count": null,
      "outputs": []
    },
    {
      "cell_type": "markdown",
      "source": [
        "The following over-writes the top row of our 2D array with zeros.\n",
        "* Note:  we use the `.shape` attribute to automatically determine how many columns are in `A`, which we pass to the `np.zeros()` function."
      ],
      "metadata": {
        "id": "0xwrxzD00um9"
      }
    },
    {
      "cell_type": "code",
      "source": [
        "A[0,:] = np.zeros(A.shape[1])\n",
        "print(A)"
      ],
      "metadata": {
        "id": "W7DILF2a04OV"
      },
      "execution_count": null,
      "outputs": []
    },
    {
      "cell_type": "markdown",
      "source": [
        "### ✅ Skill Check 2\n",
        "\n",
        "* Use slicing to set the last column of the `A` array defined above to 1's\n",
        "* print the `A` array\n",
        "\n"
      ],
      "metadata": {
        "id": "K2GmwCCm0j7U"
      }
    },
    {
      "cell_type": "code",
      "source": [
        "# your code here"
      ],
      "metadata": {
        "id": "8_nziYElqQ4u"
      },
      "execution_count": null,
      "outputs": []
    },
    {
      "cell_type": "markdown",
      "source": [
        "## **8.5 Working with multi-dimensional arrays**\n",
        "\n"
      ],
      "metadata": {
        "id": "kNSAPvN7dWDg"
      }
    },
    {
      "cell_type": "markdown",
      "source": [
        "### 8.5.1 Create a new array to match size of an existing array\n",
        "\n",
        "* We can use the `.shape` attribute to easily create a new array with the same size as an existing array like this:\n"
      ],
      "metadata": {
        "id": "6REecBXdet-G"
      }
    },
    {
      "cell_type": "code",
      "source": [
        "A = rng.integers(1, 9, size=(3,5),endpoint=True)\n",
        "\n",
        "B = np.zeros(A.shape)     # Array B will have same size as array A\n",
        "print(B)\n"
      ],
      "metadata": {
        "id": "UrAtBiqyduBW",
        "outputId": "65192671-08f4-42e9-c599-b47e4f6eafff",
        "colab": {
          "base_uri": "https://localhost:8080/"
        }
      },
      "execution_count": 77,
      "outputs": [
        {
          "output_type": "stream",
          "name": "stdout",
          "text": [
            "[[0. 0. 0. 0. 0.]\n",
            " [0. 0. 0. 0. 0.]\n",
            " [0. 0. 0. 0. 0.]]\n"
          ]
        }
      ]
    },
    {
      "cell_type": "markdown",
      "source": [
        "### 8.5.2 Take the transpose of a 2D array\n",
        "\n",
        "* The transpose flips the rows and columns\n",
        "* We just add a `.T` after our array like this:  `A.T`\n",
        "* We'll take the transpose of the `A` array in the previous section:"
      ],
      "metadata": {
        "id": "QGTHyZz9e65U"
      }
    },
    {
      "cell_type": "code",
      "source": [
        "print(\"original Array, A:\")\n",
        "print(A)\n",
        "print()\n",
        "\n",
        "print(\"transpose of A:\")\n",
        "print(A.T)"
      ],
      "metadata": {
        "id": "Y0j05o9VfIqF",
        "outputId": "3416ac44-ad1f-49da-accd-257c0fa20f0d",
        "colab": {
          "base_uri": "https://localhost:8080/"
        }
      },
      "execution_count": 78,
      "outputs": [
        {
          "output_type": "stream",
          "name": "stdout",
          "text": [
            "original Array, A:\n",
            "[[1 6 9 3 9]\n",
            " [2 5 9 8 4]\n",
            " [9 4 1 4 3]]\n",
            "\n",
            "transpose of A:\n",
            "[[1 2 9]\n",
            " [6 5 4]\n",
            " [9 9 1]\n",
            " [3 8 4]\n",
            " [9 4 3]]\n"
          ]
        }
      ]
    },
    {
      "cell_type": "markdown",
      "source": [
        "### 8.5.3  Reshaping arrays\n",
        "\n",
        "**Flatten**\n",
        "\n",
        "* We can reduce an array to 1D with the `.flatten()` method.\n",
        "* Notice that"
      ],
      "metadata": {
        "id": "IcIawE5ufhZP"
      }
    },
    {
      "cell_type": "code",
      "source": [
        "print(\"flattened version of A\")\n",
        "A_flat = A.flatten()\n",
        "print(A_flat)\n"
      ],
      "metadata": {
        "id": "vCGmWMswfLqP",
        "outputId": "9cf80a39-22df-41f5-d888-e8c6e38031fb",
        "colab": {
          "base_uri": "https://localhost:8080/"
        }
      },
      "execution_count": 79,
      "outputs": [
        {
          "output_type": "stream",
          "name": "stdout",
          "text": [
            "flattened version of A\n",
            "[1 6 9 3 9 2 5 9 8 4 9 4 1 4 3]\n"
          ]
        }
      ]
    },
    {
      "cell_type": "markdown",
      "source": [
        "**Reshape**\n",
        "\n",
        "* The `.reshape()` method can be used to reorder the elements of an array.\n",
        "* The  `.reshape()` method takes a tuple as an argument:  single number for 1D array, `(n,m)` for 2D array, `(p,n,m)` for a 3D array and so on."
      ],
      "metadata": {
        "id": "leIqVVkFguCc"
      }
    },
    {
      "cell_type": "code",
      "source": [
        "#####  Create a 1x12 array filled with integers\n",
        "print(\"original array. A \")\n",
        "A = np.linspace(1,12,12,dtype=int)\n",
        "print(A)\n",
        "\n",
        "#####  Reshape -> 2x6  (2 rows, 6 columns)\n",
        "print()\n",
        "print(\"A2 = A.reshape((2,6)) \")\n",
        "A2 = A.reshape((2,6))\n",
        "print(A2)\n",
        "print()\n",
        "\n",
        "#####  Reshape -> 3x4  (3 rows, 4 columns)\n",
        "print(\"A3 = A2.reshape((3,4)) \")\n",
        "A3 = A2.reshape((3,4))\n",
        "print(A3)\n",
        "print()\n",
        "\n",
        "#####  Reshape -> 2x2x3  (2 layers, 2 rows, 3 columns) = 3D array\n",
        "print(\"A4 = A3.reshape((2,2,3)) \")\n",
        "A4 = A3.reshape((2,2,3))\n",
        "print(A4)\n"
      ],
      "metadata": {
        "id": "bAczg3gFg4eS",
        "outputId": "265090e5-3f9e-4f63-cb1e-0f83ea6bdc6e",
        "colab": {
          "base_uri": "https://localhost:8080/"
        }
      },
      "execution_count": 80,
      "outputs": [
        {
          "output_type": "stream",
          "name": "stdout",
          "text": [
            "original array. A \n",
            "[ 1  2  3  4  5  6  7  8  9 10 11 12]\n",
            "\n",
            "A2 = A.reshape((2,6)) \n",
            "[[ 1  2  3  4  5  6]\n",
            " [ 7  8  9 10 11 12]]\n",
            "\n",
            "A3 = A2.reshape((3,4)) \n",
            "[[ 1  2  3  4]\n",
            " [ 5  6  7  8]\n",
            " [ 9 10 11 12]]\n",
            "\n",
            "A4 = A3.reshape((2,2,3)) \n",
            "[[[ 1  2  3]\n",
            "  [ 4  5  6]]\n",
            "\n",
            " [[ 7  8  9]\n",
            "  [10 11 12]]]\n"
          ]
        }
      ]
    },
    {
      "cell_type": "markdown",
      "source": [
        "### 8.5.4 Analyzing Arrays along Rows or Columns\n",
        "\n",
        "* Suppose you are given a 2D array, and you'd like to know something about the first column."
      ],
      "metadata": {
        "id": "AwohJ8LJk71b"
      }
    },
    {
      "cell_type": "markdown",
      "source": [
        "### 8.5.4 Computing statistics along rows or columns\n",
        "\n",
        "* Suppose you are given a 2D array, and you'd like to know something about the first column.\n",
        "* We can use slicing to extract the column for analysis\n",
        "* We can also specify the dimension we want to analyz"
      ],
      "metadata": {
        "id": "THra9iPEkWm_"
      }
    },
    {
      "cell_type": "code",
      "source": [
        "R = np.linspace(1,15,15)\n",
        "R = R.reshape((5,3))\n",
        "R = R.T\n",
        "print(\"R = \")\n",
        "print(R)\n",
        "\n",
        "ave = R.mean(axis = 0)\n",
        "print()\n",
        "print(\"Column mean = \")\n",
        "print(ave)\n",
        "\n",
        "ave = R.mean(axis = 1)\n",
        "print()\n",
        "print(\"Row mean = \")\n",
        "print(ave)"
      ],
      "metadata": {
        "id": "YzAocxrek9Nd",
        "outputId": "2901aae8-7a71-41e8-cd9a-ba249d90e1a0",
        "colab": {
          "base_uri": "https://localhost:8080/"
        }
      },
      "execution_count": 81,
      "outputs": [
        {
          "output_type": "stream",
          "name": "stdout",
          "text": [
            "R = \n",
            "[[ 1.  4.  7. 10. 13.]\n",
            " [ 2.  5.  8. 11. 14.]\n",
            " [ 3.  6.  9. 12. 15.]]\n",
            "\n",
            "Column mean = \n",
            "[ 2.  5.  8. 11. 14.]\n",
            "\n",
            "Row mean = \n",
            "[7. 8. 9.]\n"
          ]
        }
      ]
    },
    {
      "cell_type": "markdown",
      "source": [
        "## 8.6 Reading data files in Google Colab\n",
        "\n",
        "Google Colab poses some challenges when reading and writing files due to the way Google handles directories. When we run Python on your laptop, this process will be much simpler.\n",
        "* Step 1 - Download the file `bh_merger.csv` from the Python_Tutorials directory on GitHub and save it on your laptop. This file contains the masses of binary black hole pairs that have merged and given off gravitational waves.\n",
        "* Step 2 - Run the following Code Cell. This will load in the data in from the file and save it as a 2D NumPy array called `data`.\n",
        "* Step 3 - Once the data is successfully read in to the `data` array, the data will be saved in memory, so you can run or rerun the analysis code in the following Code Cells without having to reload the file.\n",
        "\n",
        "Here's what the following Code Cell does to read in the data file:\n",
        "* Import the `google.files` module\n",
        "* Call `uploaded = files.upload()` to launch a file picker. You'll need to navigate to you the `bh_merger.csv` file to load it.\n",
        "* Extract the actual file name from the `uploaded` dictionary using the command `file_name = list(uploaded.keys())[0]`\n",
        "* Finally, we can now use the NumPy command `np.loadtxt(file_name)` to load a file specified by `file_name`.\n",
        "\n",
        "Use of the `np.loadtxt()` command\n",
        "* `np.loadtxt(file_name)` loads a data file with name `file_name`. The file must contain rows of numeric values with equal number of values per row, with each numerica value separated by spaces. The file cannot have any extra header or footer data. Thus, the file must have the form:  \n",
        "```\n",
        "   1.0  2.4  3.6\n",
        "   3.5  0.1  0.4\n",
        "   4.3  2.1  3.5\n",
        "```\n",
        "* If the values are separated by commas as in the following example, we need to specify the delimeter between values is a comma like this:  `np.loadtxt(file_name,delimiter=',')`.  \n",
        "```\n",
        "   1.0, 2.4, 3.6\n",
        "   3.5, 0.1, 0.4\n",
        "   4.3, 2.1, 3.5\n",
        "```\n",
        "* If the file has one or more header lines, we need to skip over them to read the data. We specify the number of lines to skip with the `skiprows` parameter like this:   `np.loadtxt(file_name, skiprows=1,delimiter=',')`.  \n",
        "```\n",
        "   x, y, z\n",
        "   1.0, 2.4, 3.6\n",
        "   3.5, 0.1, 0.4\n",
        "   4.3, 2.1, 3.5\n",
        "```\n",
        "* Our `bh_merger.csv` file has one header line and uses a comma delimiter, so we use the command `data = np.loadtxt(file_name,skiprows=1,delimiter=',')` to read it."
      ],
      "metadata": {
        "id": "cMRDilDnRlNP"
      }
    },
    {
      "cell_type": "code",
      "source": [
        "# Import Libraries\n",
        "from google.colab import files   # used to load files in Google\n",
        "import numpy as np\n",
        "\n",
        "#####  Load Data File\n",
        "uploaded = files.upload()  # This opens a file picker\n",
        "\n",
        "# uploaded is a dictionary: filename -> bytes\n",
        "# Get the first filename\n",
        "file_name = list(uploaded.keys())[0]\n",
        "\n",
        "# Load the data into a NumPy array\n",
        "# Assuming a text file with numeric data, separated by commas\n",
        "#    and with one header line that must be skipped\n",
        "data = np.loadtxt(file_name,skiprows=1,delimiter=',')\n",
        "\n"
      ],
      "metadata": {
        "id": "3ICCaiGe4toq",
        "outputId": "32337bc7-93c7-4ba8-a77c-2742f22acc2c",
        "colab": {
          "base_uri": "https://localhost:8080/",
          "height": 69
        }
      },
      "execution_count": 82,
      "outputs": [
        {
          "output_type": "display_data",
          "data": {
            "text/plain": [
              "<IPython.core.display.HTML object>"
            ],
            "text/html": [
              "\n",
              "     <input type=\"file\" id=\"files-3f228848-d916-4f13-a3dc-c7104014a1b4\" name=\"files[]\" multiple disabled\n",
              "        style=\"border:none\" />\n",
              "     <output id=\"result-3f228848-d916-4f13-a3dc-c7104014a1b4\">\n",
              "      Upload widget is only available when the cell has been executed in the\n",
              "      current browser session. Please rerun this cell to enable.\n",
              "      </output>\n",
              "      <script>// Copyright 2017 Google LLC\n",
              "//\n",
              "// Licensed under the Apache License, Version 2.0 (the \"License\");\n",
              "// you may not use this file except in compliance with the License.\n",
              "// You may obtain a copy of the License at\n",
              "//\n",
              "//      http://www.apache.org/licenses/LICENSE-2.0\n",
              "//\n",
              "// Unless required by applicable law or agreed to in writing, software\n",
              "// distributed under the License is distributed on an \"AS IS\" BASIS,\n",
              "// WITHOUT WARRANTIES OR CONDITIONS OF ANY KIND, either express or implied.\n",
              "// See the License for the specific language governing permissions and\n",
              "// limitations under the License.\n",
              "\n",
              "/**\n",
              " * @fileoverview Helpers for google.colab Python module.\n",
              " */\n",
              "(function(scope) {\n",
              "function span(text, styleAttributes = {}) {\n",
              "  const element = document.createElement('span');\n",
              "  element.textContent = text;\n",
              "  for (const key of Object.keys(styleAttributes)) {\n",
              "    element.style[key] = styleAttributes[key];\n",
              "  }\n",
              "  return element;\n",
              "}\n",
              "\n",
              "// Max number of bytes which will be uploaded at a time.\n",
              "const MAX_PAYLOAD_SIZE = 100 * 1024;\n",
              "\n",
              "function _uploadFiles(inputId, outputId) {\n",
              "  const steps = uploadFilesStep(inputId, outputId);\n",
              "  const outputElement = document.getElementById(outputId);\n",
              "  // Cache steps on the outputElement to make it available for the next call\n",
              "  // to uploadFilesContinue from Python.\n",
              "  outputElement.steps = steps;\n",
              "\n",
              "  return _uploadFilesContinue(outputId);\n",
              "}\n",
              "\n",
              "// This is roughly an async generator (not supported in the browser yet),\n",
              "// where there are multiple asynchronous steps and the Python side is going\n",
              "// to poll for completion of each step.\n",
              "// This uses a Promise to block the python side on completion of each step,\n",
              "// then passes the result of the previous step as the input to the next step.\n",
              "function _uploadFilesContinue(outputId) {\n",
              "  const outputElement = document.getElementById(outputId);\n",
              "  const steps = outputElement.steps;\n",
              "\n",
              "  const next = steps.next(outputElement.lastPromiseValue);\n",
              "  return Promise.resolve(next.value.promise).then((value) => {\n",
              "    // Cache the last promise value to make it available to the next\n",
              "    // step of the generator.\n",
              "    outputElement.lastPromiseValue = value;\n",
              "    return next.value.response;\n",
              "  });\n",
              "}\n",
              "\n",
              "/**\n",
              " * Generator function which is called between each async step of the upload\n",
              " * process.\n",
              " * @param {string} inputId Element ID of the input file picker element.\n",
              " * @param {string} outputId Element ID of the output display.\n",
              " * @return {!Iterable<!Object>} Iterable of next steps.\n",
              " */\n",
              "function* uploadFilesStep(inputId, outputId) {\n",
              "  const inputElement = document.getElementById(inputId);\n",
              "  inputElement.disabled = false;\n",
              "\n",
              "  const outputElement = document.getElementById(outputId);\n",
              "  outputElement.innerHTML = '';\n",
              "\n",
              "  const pickedPromise = new Promise((resolve) => {\n",
              "    inputElement.addEventListener('change', (e) => {\n",
              "      resolve(e.target.files);\n",
              "    });\n",
              "  });\n",
              "\n",
              "  const cancel = document.createElement('button');\n",
              "  inputElement.parentElement.appendChild(cancel);\n",
              "  cancel.textContent = 'Cancel upload';\n",
              "  const cancelPromise = new Promise((resolve) => {\n",
              "    cancel.onclick = () => {\n",
              "      resolve(null);\n",
              "    };\n",
              "  });\n",
              "\n",
              "  // Wait for the user to pick the files.\n",
              "  const files = yield {\n",
              "    promise: Promise.race([pickedPromise, cancelPromise]),\n",
              "    response: {\n",
              "      action: 'starting',\n",
              "    }\n",
              "  };\n",
              "\n",
              "  cancel.remove();\n",
              "\n",
              "  // Disable the input element since further picks are not allowed.\n",
              "  inputElement.disabled = true;\n",
              "\n",
              "  if (!files) {\n",
              "    return {\n",
              "      response: {\n",
              "        action: 'complete',\n",
              "      }\n",
              "    };\n",
              "  }\n",
              "\n",
              "  for (const file of files) {\n",
              "    const li = document.createElement('li');\n",
              "    li.append(span(file.name, {fontWeight: 'bold'}));\n",
              "    li.append(span(\n",
              "        `(${file.type || 'n/a'}) - ${file.size} bytes, ` +\n",
              "        `last modified: ${\n",
              "            file.lastModifiedDate ? file.lastModifiedDate.toLocaleDateString() :\n",
              "                                    'n/a'} - `));\n",
              "    const percent = span('0% done');\n",
              "    li.appendChild(percent);\n",
              "\n",
              "    outputElement.appendChild(li);\n",
              "\n",
              "    const fileDataPromise = new Promise((resolve) => {\n",
              "      const reader = new FileReader();\n",
              "      reader.onload = (e) => {\n",
              "        resolve(e.target.result);\n",
              "      };\n",
              "      reader.readAsArrayBuffer(file);\n",
              "    });\n",
              "    // Wait for the data to be ready.\n",
              "    let fileData = yield {\n",
              "      promise: fileDataPromise,\n",
              "      response: {\n",
              "        action: 'continue',\n",
              "      }\n",
              "    };\n",
              "\n",
              "    // Use a chunked sending to avoid message size limits. See b/62115660.\n",
              "    let position = 0;\n",
              "    do {\n",
              "      const length = Math.min(fileData.byteLength - position, MAX_PAYLOAD_SIZE);\n",
              "      const chunk = new Uint8Array(fileData, position, length);\n",
              "      position += length;\n",
              "\n",
              "      const base64 = btoa(String.fromCharCode.apply(null, chunk));\n",
              "      yield {\n",
              "        response: {\n",
              "          action: 'append',\n",
              "          file: file.name,\n",
              "          data: base64,\n",
              "        },\n",
              "      };\n",
              "\n",
              "      let percentDone = fileData.byteLength === 0 ?\n",
              "          100 :\n",
              "          Math.round((position / fileData.byteLength) * 100);\n",
              "      percent.textContent = `${percentDone}% done`;\n",
              "\n",
              "    } while (position < fileData.byteLength);\n",
              "  }\n",
              "\n",
              "  // All done.\n",
              "  yield {\n",
              "    response: {\n",
              "      action: 'complete',\n",
              "    }\n",
              "  };\n",
              "}\n",
              "\n",
              "scope.google = scope.google || {};\n",
              "scope.google.colab = scope.google.colab || {};\n",
              "scope.google.colab._files = {\n",
              "  _uploadFiles,\n",
              "  _uploadFilesContinue,\n",
              "};\n",
              "})(self);\n",
              "</script> "
            ]
          },
          "metadata": {}
        },
        {
          "output_type": "stream",
          "name": "stdout",
          "text": [
            "Saving bh_merger.csv to bh_merger.csv\n"
          ]
        }
      ]
    },
    {
      "cell_type": "markdown",
      "source": [
        "The `bh_merger.csv` file contains the following columns of data:\n",
        "* column 1 - mass of first black hole in units of solar masses (i.e. 30 means the black hole has 30 times the mass of the sun).\n",
        "* column 2 - mass of the second black hole\n",
        "* column 3 - distance of the black holes from Earth in units of megaparsecs (Mpc). 1 Mpc = 3.26 million light years.\n",
        "\n",
        "The following Code prints the number of rows, columns and first 5 rows of data.\n"
      ],
      "metadata": {
        "id": "V8rdZgPYBQJy"
      }
    },
    {
      "cell_type": "code",
      "source": [
        "# Inspect the array\n",
        "nrows = data.shape[0]\n",
        "ncols = data.shape[1]\n",
        "print()\n",
        "print(f\"{file_name} contains {nrows} rows and {ncols} columns\")\n",
        "print()\n",
        "print(\"First 5 rows:\")\n",
        "print(data[:5])"
      ],
      "metadata": {
        "id": "Sgc-YjeiZEoa",
        "outputId": "2487a2df-f54e-4b83-b854-e74fbdafec50",
        "colab": {
          "base_uri": "https://localhost:8080/"
        }
      },
      "execution_count": 83,
      "outputs": [
        {
          "output_type": "stream",
          "name": "stdout",
          "text": [
            "\n",
            "bh_merger.csv contains 174 rows and 3 columns\n",
            "\n",
            "First 5 rows:\n",
            "[[  29.1   18.  1450. ]\n",
            " [  60.    32.  5700. ]\n",
            " [  42.3   32.3 1890. ]\n",
            " [  22.5   17.2 1060. ]\n",
            " [  53.    35.  5600. ]]\n"
          ]
        }
      ]
    },
    {
      "cell_type": "markdown",
      "source": [
        "### ✅ Skill Check 3\n",
        "\n",
        "The following code shows how to extract the first column of values from the `data` array and name it mass1 (this will contain the masses of one of black holes in the binary system.)\n",
        "* Extract the second column and name it `mass2` (mass of second black hole)\n",
        "* Exctract the third column and name it `dist` (distance of the black holes)"
      ],
      "metadata": {
        "id": "4B0x7n7tDV18"
      }
    },
    {
      "cell_type": "code",
      "source": [
        "mass1 = data[:,0]  # mass one is stored in the first column (index = 0)\n",
        "\n",
        "mass1 = data[:, 0]\n",
        "mass2 = data[:, 1]\n",
        "dist  = data[:, 2]\n",
        "\n",
        "print(\"mass1 (first 5):\", mass1[:5])\n",
        "print(\"mass2 (first 5):\", mass2[:5])\n",
        "print(\"dist  (first 5):\", dist[:5])\n",
        "\n",
        "\n"
      ],
      "metadata": {
        "id": "C6MlKFVtGcTw",
        "outputId": "505b9298-035b-4a68-c668-418504439cfa",
        "colab": {
          "base_uri": "https://localhost:8080/"
        }
      },
      "execution_count": 85,
      "outputs": [
        {
          "output_type": "stream",
          "name": "stdout",
          "text": [
            "mass1 (first 5): [29.1 60.  42.3 22.5 53. ]\n",
            "mass2 (first 5): [18.  32.  32.3 17.2 35. ]\n",
            "dist  (first 5): [1450. 5700. 1890. 1060. 5600.]\n"
          ]
        }
      ]
    },
    {
      "cell_type": "markdown",
      "source": [
        "### ✅ Skill Check 4\n",
        "\n",
        "* Calculate and print the minimum, maximum and average mass for for `mass1`. Use the NumPy vectorized methods\n",
        "* Calculate and print the minimum, maximum and average mass for for `mass2`. Use the NumPy vectorized methods\n",
        "* Calculate and print the minimum, maximum and average distance of the black holes. Use the NumPy vectorized methods.\n",
        "* Convert the distance of the most distant black hole into billions of light years (multiply the distance in Mpc by 3262). For nearby objects, this would be how far back in the past light left the object that we are now seeing. However, these distant black holes are so far away, we would need to take into account the acceleration of the universe after the Big Bang, which only happened about 13.8 billion years ago."
      ],
      "metadata": {
        "id": "3fm-KvoGGsl6"
      }
    },
    {
      "cell_type": "code",
      "source": [
        "# mass1 stats\n",
        "m1_min = mass1.min()\n",
        "m1_max = mass1.max()\n",
        "m1_avg = mass1.mean()\n",
        "\n",
        "# mass2 stats\n",
        "m2_min = mass2.min()\n",
        "m2_max = mass2.max()\n",
        "m2_avg = mass2.mean()\n",
        "\n",
        "# distance stats (Mpc)\n",
        "d_min = dist.min()\n",
        "d_max = dist.max()\n",
        "d_avg = dist.mean()\n",
        "\n",
        "print(f\"mass1: min={m1_min:.3f}, max={m1_max:.3f}, mean={m1_avg:.3f}\")\n",
        "print(f\"mass2: min={m2_min:.3f}, max={m2_max:.3f}, mean={m2_avg:.3f}\")\n",
        "print(f\"dist (Mpc): min={d_min:.3f}, max={d_max:.3f}, mean={d_avg:.3f}\")\n",
        "\n",
        "max_dist_gly = d_max * 0.003262\n",
        "print(f\"Most distant black hole pair ≈ {max_dist_gly:.4f} billion light years (Gly)\")\n",
        "\n"
      ],
      "metadata": {
        "id": "sS1_XDm2f6vG",
        "outputId": "1b19780b-fb15-4e30-eb09-d12b73eb3886",
        "colab": {
          "base_uri": "https://localhost:8080/"
        }
      },
      "execution_count": 86,
      "outputs": [
        {
          "output_type": "stream",
          "name": "stdout",
          "text": [
            "mass1: min=1.460, max=137.000, mean=37.574\n",
            "mass2: min=1.170, max=103.000, mean=23.677\n",
            "dist (Mpc): min=40.000, max=8280.000, mean=2502.787\n",
            "Most distant black hole pair ≈ 27.0094 billion light years (Gly)\n"
          ]
        }
      ]
    },
    {
      "cell_type": "markdown",
      "source": [
        "### ✅ Skill Check 5\n",
        "\n",
        "* Reshape the the first two columns of the the `data` array to create a single array containing the masses of both black holes.\n",
        "* Calculate the minimum, maximum and average of all the black holes.\n",
        "* Are your values consistent with your stats for `mass1` and `mass2`?"
      ],
      "metadata": {
        "id": "0CmjbuJbL_82"
      }
    },
    {
      "cell_type": "code",
      "source": [
        "\n",
        "both_masses = data[:, :2].reshape(-1)\n",
        "\n",
        "bm_min = both_masses.min()\n",
        "bm_max = both_masses.max()\n",
        "bm_avg = both_masses.mean()\n",
        "\n",
        "print(f\"All black holes combined: min={bm_min:.3f}, max={bm_max:.3f}, mean={bm_avg:.3f}\")\n",
        "\n"
      ],
      "metadata": {
        "id": "_R7OkFWJdvzX",
        "outputId": "f96db124-95be-48d1-efbf-9c79ad7876bd",
        "colab": {
          "base_uri": "https://localhost:8080/"
        }
      },
      "execution_count": 87,
      "outputs": [
        {
          "output_type": "stream",
          "name": "stdout",
          "text": [
            "All black holes combined: min=1.170, max=137.000, mean=30.626\n"
          ]
        }
      ]
    },
    {
      "cell_type": "markdown",
      "source": [
        "## Key Points\n",
        "* NumPy arrays can be 1D, 2D, 3D, 4D, or any number of dimensions\n",
        "* Fetching values from a multidimensional array uses commas, i.e `A[1,0,3]`\n",
        "* NumPy arrays have many Attributes an Methods to perform operations and gather statistics.\n",
        "* Loading data into Google Colab is more complicated than doing so on your laptop. We showed how to load a comma-separated-value (csv) file and analyze the data"
      ],
      "metadata": {
        "id": "1UCqSGwQYh3_"
      }
    },
    {
      "cell_type": "markdown",
      "source": [
        "This tutorial is an adaptation of \"[Python for Physicists](https://lucydot.github.io/python_novice/)\"\n",
        "© [Software Carpentry](http://software-carpentry.org/)\n"
      ],
      "metadata": {
        "id": "5pnXdFvAhvCZ"
      }
    }
  ]
}